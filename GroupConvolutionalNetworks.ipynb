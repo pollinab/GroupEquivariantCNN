{
  "nbformat": 4,
  "nbformat_minor": 0,
  "metadata": {
    "colab": {
      "provenance": [],
      "gpuType": "T4",
      "toc_visible": true
    },
    "kernelspec": {
      "name": "python3",
      "display_name": "Python 3"
    },
    "language_info": {
      "name": "python"
    },
    "accelerator": "GPU"
  },
  "cells": [
    {
      "cell_type": "markdown",
      "metadata": {
        "id": "lWwwHcWOPqLe"
      },
      "source": [
        "# Group Equivariant Neural Networks\n",
        "\n",
        "---\n",
        "\n",
        "Based on the notebook from https://uvagedl.github.io/\n"
      ]
    },
    {
      "cell_type": "code",
      "metadata": {
        "id": "kj_0_Ky8m9wj"
      },
      "source": [
        "import numpy as np\n",
        "import torch\n",
        "\n",
        "import matplotlib\n",
        "%matplotlib inline\n",
        "import matplotlib.pyplot as plt"
      ],
      "execution_count": null,
      "outputs": []
    },
    {
      "cell_type": "markdown",
      "metadata": {
        "id": "Xc3AaBNaVXYX"
      },
      "source": [
        "# Groups\n"
      ]
    },
    {
      "cell_type": "markdown",
      "source": [
        "## $C4$"
      ],
      "metadata": {
        "id": "3CiNaTAvgqiH"
      }
    },
    {
      "cell_type": "code",
      "metadata": {
        "id": "OyI6SBKyjekU"
      },
      "source": [
        "class C4:\n",
        "\n",
        "  @staticmethod\n",
        "  def product(r: int, s: int) -> int:\n",
        "    # Implements the *group law* of the group C_4.\n",
        "    # The input `r` and `s` must be integers in {0, 1, 2, 3} and represent two elements of the group.\n",
        "    # The method should return the integer representing the product of the two input elements.\n",
        "    # You should also check that the inputs are valid.\n",
        "\n",
        "    return (r + s) % 4\n",
        "\n",
        "  @staticmethod\n",
        "  def inverse(r: int) -> int:\n",
        "    # Implements the *inverse* operation of the group C_4.\n",
        "    # The input `r` must be an integer in {0, 1, 2, 3} and represents an element of the group.\n",
        "    # The method should return the integer representing the inverse of input element.\n",
        "    # You should also check that the input is valid.\n",
        "\n",
        "    return (4 - r) % 4\n"
      ],
      "execution_count": null,
      "outputs": []
    },
    {
      "cell_type": "code",
      "metadata": {
        "id": "_0RNEk59k-9M"
      },
      "source": [
        "# Some test cases to check if your implementation is working\n",
        "assert C4.product(1, 3) == 0\n",
        "assert C4.product(0, 0) == 0\n",
        "assert C4.product(2, 3) == 1\n",
        "assert C4.inverse(0) == 0\n",
        "assert C4.inverse(1) == 3"
      ],
      "execution_count": null,
      "outputs": []
    },
    {
      "cell_type": "markdown",
      "metadata": {
        "id": "u_rXVJ_62WQN"
      },
      "source": [
        "## $D_4$\n"
      ]
    },
    {
      "cell_type": "code",
      "metadata": {
        "id": "SlGnVQtEBkhI"
      },
      "source": [
        "class D4:\n",
        "\n",
        "  @staticmethod\n",
        "  def product(a: tuple, b: tuple) -> tuple:\n",
        "    # Implements the *group law* of the group D_4.\n",
        "    # The input `a` and `b` must be tuples containing two integers, e.g. `a = (f, r)`.\n",
        "    # The two integeres indicate whether the group element includes a reflection and the number of rotations.\n",
        "    # The method should return the tuple representing the product of the two input elements.\n",
        "    # You should also check that the inputs are valid.\n",
        "\n",
        "    ### BEGIN SOLUTION\n",
        "    f = (a[0] + b[0])%2\n",
        "    if a[0] == 1 and b[0] == 0:\n",
        "      return (f, C4.product(a[1], C4.inverse(b[1])))\n",
        "    elif a[0] == 1:\n",
        "      return (f, C4.product(C4.inverse(a[1]), b[1]))\n",
        "    return (f, C4.product(a[1], b[1]))\n",
        "\n",
        "\n",
        "\n",
        "    ### END SOLUTION\n",
        "\n",
        "  @staticmethod\n",
        "  def inverse(g: int) -> int:\n",
        "    # Implements the *inverse* operation of the group D_4.\n",
        "    # The input `g` must be a tuple containing two integers, e.g. `g = (f, r)`.\n",
        "    # The two integeres indicate whether the group element includes a reflection and the number of rotations.\n",
        "    # The method should return the tuple representing the inverse of the input element.\n",
        "    # You should also check that the input is valid.\n",
        "\n",
        "    ### BEGIN SOLUTION\n",
        "    if g[0] == 0:\n",
        "      return (g[0], C4.inverse(g[1]))\n",
        "    return (1, g[1])\n",
        "\n",
        "    ### END SOLUTION\n",
        "\n",
        "\n"
      ],
      "execution_count": null,
      "outputs": []
    },
    {
      "cell_type": "code",
      "metadata": {
        "id": "zj9Avgk3Dqq0"
      },
      "source": [
        "e = (0, 0) # the identity element\n",
        "f = (1, 0) # the horizontal reflection\n",
        "r = (0, 1) # the rotation by 90 degrees\n",
        "\n",
        "# Let's verify that the implementation is consistent with the instructions given\n",
        "assert D4.product(e, e) == e\n",
        "assert D4.product(f, f) == e\n",
        "assert D4.product(f, r) == D4.product(D4.inverse(r), f)\n",
        "\n",
        "# Let's verify that the implementation satisfies the group axioms\n",
        "a = (1, 2)\n",
        "b = (0, 3)\n",
        "c = (1, 1)\n",
        "assert D4.product(a, e) == a\n",
        "assert D4.product(e, a) == a\n",
        "assert D4.product(b, D4.inverse(b)) == e\n",
        "assert D4.product(D4.inverse(b), b) == e\n",
        "\n",
        "assert D4.product(D4.product(a, b), c) == D4.product(a, D4.product(b, c))"
      ],
      "execution_count": null,
      "outputs": []
    },
    {
      "cell_type": "markdown",
      "metadata": {
        "id": "fYxbur_TblVO"
      },
      "source": [
        "## Group action\n"
      ]
    },
    {
      "cell_type": "code",
      "metadata": {
        "id": "NZAc4CRKpB8N"
      },
      "source": [
        "def rotate(x: torch.Tensor, r: int) -> torch.Tensor:\n",
        "  # Method which implements the action of the group element `g` indexed by `r` on the input image `x`.\n",
        "  # The method returns the image `g.x`\n",
        "\n",
        "  # note that we rotate the last 2 dimensions of the input, since we want to later use this method to rotate minibatches containing multiple images\n",
        "  return x.rot90(r, dims=(-2, -1))\n"
      ],
      "execution_count": null,
      "outputs": []
    },
    {
      "cell_type": "code",
      "metadata": {
        "id": "_AZkDS-npug-",
        "colab": {
          "base_uri": "https://localhost:8080/",
          "height": 891
        },
        "outputId": "45e6d318-989e-40aa-eec5-581edc67162f"
      },
      "source": [
        "x = torch.randn(1, 1, 33, 33)**2\n",
        "\n",
        "r = 1\n",
        "gx = rotate(x, r)\n",
        "\n",
        "plt.imshow(x[0, 0].numpy())\n",
        "plt.title('Original Image $x$')\n",
        "plt.show()\n",
        "\n",
        "plt.imshow(gx[0, 0].numpy())\n",
        "plt.title('Rotated Image $g.x$')\n",
        "plt.show()"
      ],
      "execution_count": null,
      "outputs": [
        {
          "output_type": "display_data",
          "data": {
            "text/plain": [
              "<Figure size 640x480 with 1 Axes>"
            ],
            "image/png": "[encoded data removed]"
          },
          "metadata": {}
        },
        {
          "output_type": "display_data",
          "data": {
            "text/plain": [
              "<Figure size 640x480 with 1 Axes>"
            ],
            "image/png": "[encoded data removed]"
          },
          "metadata": {}
        }
      ]
    },
    {
      "cell_type": "markdown",
      "metadata": {
        "id": "UHjozNZ_JB8I"
      },
      "source": [
        "# Equivariant Convolution Layers"
      ]
    },
    {
      "cell_type": "markdown",
      "metadata": {
        "id": "e2URqxYeGm0S"
      },
      "source": [
        "### Group Action on the space of functions over $p4$\n"
      ]
    },
    {
      "cell_type": "code",
      "metadata": {
        "id": "pM2c66ZOHuur"
      },
      "source": [
        "def rotate_p4(y: torch.Tensor, r: int) -> torch.Tensor:\n",
        "  # `y` is a function over p4, i.e. over the pixel positions and over the elements of the group C_4.\n",
        "  # This method implements the action of a rotation `r` on `y`.\n",
        "  # To be able to reuse this function later with a minibatch of inputs, assume that the last two dimensions (`dim=-2` and `dim=-1`) of `y` are the spatial dimensions\n",
        "  # while `dim=-3` has size `4` and is the C_4 dimension.\n",
        "  # All other dimensions are considered batch dimensions\n",
        "  assert len(y.shape) >= 3\n",
        "  assert y.shape[-3] == 4\n",
        "\n",
        "  y = torch.roll(y, r, dims=-3)\n",
        "  return torch.rot90(y, k=r, dims=[-2, -1])\n",
        "\n",
        "  #y = torch.rot90(y, k=r, dims=[-2, -1])\n",
        "  #return torch.roll(y, r, dims=-3)\n",
        "\n"
      ],
      "execution_count": null,
      "outputs": []
    },
    {
      "cell_type": "code",
      "metadata": {
        "id": "NIVqYFF3JUFq",
        "colab": {
          "base_uri": "https://localhost:8080/",
          "height": 761
        },
        "outputId": "26df6abe-9bc5-46a8-b7df-618b7f5e5ba4"
      },
      "source": [
        "# Let's test a rotation by r=1\n",
        "\n",
        "y = torch.randn(1, 1, 4, 33, 33)**2\n",
        "\n",
        "\n",
        "ry = rotate_p4(y, 1)\n",
        "\n",
        "fig, axes = plt.subplots(1, 4, sharex=True, sharey=True, squeeze=True, figsize=(16, 4))\n",
        "for i in range(4):\n",
        "  axes[i].imshow(y[0, 0, i].numpy())\n",
        "fig.suptitle('Original y')\n",
        "plt.show()\n",
        "\n",
        "fig, axes = plt.subplots(1, 4, sharex=True, sharey=True, squeeze=True, figsize=(16, 4))\n",
        "for i in range(4):\n",
        "  axes[i].imshow(ry[0, 0, i].numpy())\n",
        "fig.suptitle('Rotated y')\n",
        "plt.show()\n",
        "\n",
        "\n",
        "# check that the images are actually rotated:\n",
        "for _ in range(10):\n",
        "  p = np.random.randint(0, 33, size=2)\n",
        "  s = np.random.randint(0, 4)\n",
        "\n",
        "  # compute r^-1 s\n",
        "  _rs = C4.product(C4.inverse(1), s)\n",
        "\n",
        "  # compute r^-1 p\n",
        "  # note that the rotation is around the central pixel (16, 16)\n",
        "  # A rotation by r^-1 = -90 degrees maps (X, Y) -> (Y, -X)\n",
        "  center = np.array([16, 16])\n",
        "  # center the point\n",
        "  centered_p = p - center\n",
        "  # rotate round the center\n",
        "  rotated_p = np.array([centered_p[1], -centered_p[0]])\n",
        "  # shift the point back\n",
        "  _rp = rotated_p + center\n",
        "\n",
        "  # Finally check that [r.y](p, s) = y(r^-1 p, r^-1 s)\n",
        "\n",
        "  # However, in a machine, an image is stored with the coordinates (H-1-Y, X) rather than the usual (X, Y), where H is the height of the image;\n",
        "  # we need to take this into account\n",
        "  assert torch.isclose(\n",
        "      ry[..., s, 32-p[1], p[0]],\n",
        "      y[..., _rs, 32-_rp[1], _rp[0]],\n",
        "      atol=1e-5, rtol=1e-5\n",
        "    )\n",
        "\n",
        "\n"
      ],
      "execution_count": null,
      "outputs": [
        {
          "output_type": "display_data",
          "data": {
            "text/plain": [
              "<Figure size 1600x400 with 4 Axes>"
            ],
            "image/png": "[encoded data removed]"
          },
          "metadata": {}
        },
        {
          "output_type": "display_data",
          "data": {
            "text/plain": [
              "<Figure size 1600x400 with 4 Axes>"
            ],
            "image/png": "[encoded data removed]"
          },
          "metadata": {}
        }
      ]
    },
    {
      "cell_type": "markdown",
      "source": [
        "## Lifting Convolution"
      ],
      "metadata": {
        "id": "eJ3qifFohA6g"
      }
    },
    {
      "cell_type": "code",
      "metadata": {
        "id": "M97wYeO5529v"
      },
      "source": [
        "class LiftingConv2d(torch.nn.Module):\n",
        "\n",
        "  def __init__(self, in_channels: int, out_channels: int, kernel_size: int, padding: int = 0, bias: bool = True):\n",
        "\n",
        "    super(LiftingConv2d, self).__init__()\n",
        "\n",
        "    self.kernel_size = kernel_size\n",
        "    self.stride = 1\n",
        "    self.dilation = 1\n",
        "    self.padding = padding\n",
        "    self.out_channels = out_channels\n",
        "    self.in_channels = in_channels\n",
        "\n",
        "    # In this block you need to create a tensor which stores the learnable filters\n",
        "    # Recall that this layer should have `out_channels x in_channels` different learnable filters, each of shape `kernel_size x kernel_size`\n",
        "    # During the forward pass, you will build the bigger filter of shape `out_channels x 4 x in_channels x kernel_size x kernel_size` by rotating 4 times\n",
        "    # the learnable filters in `self.weight`\n",
        "\n",
        "    # initialize the weights with some random values from a normal distribution with std = 1 / sqrt(out_channels * in_channels)\n",
        "\n",
        "    self.weight = None\n",
        "    self.weight = torch.nn.Parameter(torch.Tensor(out_channels, in_channels, kernel_size, kernel_size))\n",
        "    torch.nn.init.normal_(self.weight, mean=0.0, std=1.0 / np.sqrt(out_channels * in_channels))\n",
        "\n",
        "\n",
        "    # This time, you also need to build the bias\n",
        "    # The bias is shared over the 4 rotations\n",
        "    # In total, the bias has `out_channels` learnable parameters, one for each independent output\n",
        "    # In the forward pass, you need to convert this bias into an \"expanded\" bias by repeating each entry `4` times\n",
        "\n",
        "    self.bias = None\n",
        "    if bias:\n",
        "      self.bias = torch.nn.Parameter(torch.ones(out_channels)*0.01)\n",
        "\n",
        "  def build_filter(self) ->torch.Tensor:\n",
        "    # using the tensors of learnable parameters, build\n",
        "    # - the `out_channels x 4 x in_channels x kernel_size x kernel_size` filter\n",
        "    # - the `out_channels x 4` bias\n",
        "\n",
        "    _filter = None\n",
        "    _bias = None\n",
        "\n",
        "    # Make sure that the filter and the bias tensors are on the same device of `self.weight` and `self.bias`\n",
        "\n",
        "    # First build the filter\n",
        "    # Recall that `_filter[:, i, :, :, :]` should contain the learnable filter rotated `i` times\n",
        "\n",
        "\n",
        "    _filter = torch.stack([torch.rot90(self.weight, k=r, dims=[-2, -1]) for r in range(4)], dim=1)\n",
        "\n",
        "\n",
        "\n",
        "    ### END SOLUTION\n",
        "\n",
        "    # Now build the bias\n",
        "    # Recall that `_bias[:, i]` should contain a copy of the learnable bias for each `i=0,1,2,3`\n",
        "\n",
        "    if self.bias is not None:\n",
        "      _bias = self.bias[:, None].expand(-1, 4)\n",
        "    else:\n",
        "      _bias = None\n",
        "\n",
        "    return _filter, _bias\n",
        "\n",
        "  def forward(self, x: torch.Tensor) -> torch.Tensor:\n",
        "\n",
        "    _filter, _bias = self.build_filter()\n",
        "\n",
        "    assert _bias.shape == (self.out_channels, 4)\n",
        "    assert _filter.shape == (self.out_channels, 4, self.in_channels, self.kernel_size, self.kernel_size)\n",
        "\n",
        "    # to be able to use torch.conv2d, we need to reshape the filter and bias to stack together all filters\n",
        "    _filter = _filter.reshape(self.out_channels * 4, self.in_channels, self.kernel_size, self.kernel_size)\n",
        "    _bias = _bias.reshape(self.out_channels * 4)\n",
        "\n",
        "    out = torch.conv2d(x, _filter,\n",
        "                       stride=self.stride,\n",
        "                       padding=self.padding,\n",
        "                       dilation=self.dilation,\n",
        "                       bias=_bias)\n",
        "\n",
        "    # `out` has now shape `batch_size x out_channels*4 x W x H`\n",
        "    # we need to reshape it to `batch_size x out_channels x 4 x W x H` to have the shape we expect\n",
        "\n",
        "    return out.view(-1, self.out_channels, 4, out.shape[-2], out.shape[-1])\n",
        "\n"
      ],
      "execution_count": null,
      "outputs": []
    },
    {
      "cell_type": "code",
      "metadata": {
        "id": "5rut1oTksa_t"
      },
      "source": [
        "# Let's check if the layer is really equivariant\n",
        "\n",
        "in_channels = 5\n",
        "out_channels = 10\n",
        "kernel_size = 3\n",
        "batchsize = 6\n",
        "S = 33\n",
        "\n",
        "layer = LiftingConv2d(in_channels=in_channels, out_channels=out_channels, kernel_size = kernel_size, padding=1, bias=True)\n",
        "layer.eval()\n",
        "\n",
        "x = torch.randn(batchsize, in_channels, S, S)\n",
        "# the input image belongs to the space X, so we use the original action to rotate it\n",
        "gx = rotate(x, 1)\n",
        "\n",
        "# compute the output\n",
        "psi_x = layer(x)\n",
        "psi_gx = layer(gx)\n",
        "\n",
        "# the output is a function in the space Y, so we need to use the new action to rotate it\n",
        "g_psi_x = rotate_p4(psi_x, 1)\n",
        "\n",
        "assert psi_x.shape == g_psi_x.shape\n",
        "assert psi_x.shape == (batchsize, out_channels, 4, S, S)\n",
        "\n",
        "# check the model is giving meaningful outputs\n",
        "assert not torch.allclose(psi_x, torch.zeros_like(psi_x), atol=1e-4, rtol=1e-4)\n",
        "\n",
        "# check equivariance\n",
        "assert torch.allclose(psi_gx, g_psi_x, atol=1e-6, rtol=1e-6)\n",
        "\n",
        "# check the model has the right number of parameters\n",
        "assert layer.weight.numel() == in_channels * out_channels * kernel_size**2\n",
        "assert layer.bias.numel() == out_channels"
      ],
      "execution_count": null,
      "outputs": []
    },
    {
      "cell_type": "markdown",
      "metadata": {
        "id": "kwG6f5XM6R4h"
      },
      "source": [
        "### Group-Convolution layer"
      ]
    },
    {
      "cell_type": "code",
      "metadata": {
        "id": "wyNG6xYvDxRE"
      },
      "source": [
        "class GroupConv2d(torch.nn.Module):\n",
        "\n",
        "  def __init__(self, in_channels: int, out_channels: int, kernel_size: int, padding: int = 0, bias: bool = True):\n",
        "\n",
        "    super(GroupConv2d, self).__init__()\n",
        "\n",
        "    self.kernel_size = kernel_size\n",
        "    self.stride = 1\n",
        "    self.dilation = 1\n",
        "    self.padding = padding\n",
        "    self.out_channels = out_channels\n",
        "    self.in_channels = in_channels\n",
        "\n",
        "    # In this block you need to create a tensor which stores the learnable filters\n",
        "    # Recall that this layer should have `out_channels x in_channels` different learnable filters, each of shape `4 x kernel_size x kernel_size`\n",
        "    # During the forward pass, you will build the bigger filter of shape `out_channels x 4 x in_channels x 4 x kernel_size x kernel_size` by rotating 4 times\n",
        "    # the learnable filters in `self.weight`\n",
        "\n",
        "    # initialize the weights with some random values from a normal distribution with std = 1 / np.sqrt(out_channels * in_channels)\n",
        "\n",
        "    self.weight = None\n",
        "\n",
        "    ### BEGIN SOLUTION\n",
        "    self.weight = torch.nn.Parameter(torch.Tensor(out_channels, in_channels, 4, kernel_size, kernel_size))\n",
        "    torch.nn.init.normal_(self.weight, mean=0.0, std=1.0 / np.sqrt(out_channels * in_channels))\n",
        "\n",
        "\n",
        "    ### END SOLUTION\n",
        "\n",
        "    # The bias is shared over the 4 rotations\n",
        "    # In total, the bias has `out_channels` learnable parameters, one for each independent output\n",
        "    # In the forward pass, you need to convert this bias into an \"expanded\" bias by repeating each entry `4` times\n",
        "\n",
        "    self.bias = None\n",
        "    if bias:\n",
        "      self.bias = torch.nn.Parameter(torch.ones(out_channels)*0.01)\n",
        "\n",
        "  def build_filter(self) ->torch.Tensor:\n",
        "    # using the tensors of learnable parameters, build\n",
        "    # - the `out_channels x 4 x in_channels x 4 x kernel_size x kernel_size` filter\n",
        "    # - the `out_channels x 4` bias\n",
        "\n",
        "    _filter = None\n",
        "    _bias = None\n",
        "\n",
        "    # Make sure that the filter and the bias tensors are on the same device of `self.weight` and `self.bias`\n",
        "\n",
        "    # First build the filter\n",
        "    # Recall that `_filter[:, r, :, :, :, :]` should contain the learnable filter rotated `r` times\n",
        "    # Also, recall that a rotation includes both a rotation of the pixels and a cyclic permutation of the 4 rotational input channels\n",
        "\n",
        "\n",
        "    ### BEGIN SOLUTION\n",
        "\n",
        "    _filter = torch.stack([rotate_p4(self.weight, r) for r in range(4)], dim=1)\n",
        "\n",
        "\n",
        "    ### END SOLUTION\n",
        "\n",
        "    # Now build the bias\n",
        "    # Recall that `_bias[:, i]` should contain a copy of the learnable bias for each `i`\n",
        "\n",
        "    if self.bias is not None:\n",
        "      _bias = self.bias[:, None].expand(-1, 4)\n",
        "    else:\n",
        "      _bias = None\n",
        "\n",
        "    return _filter, _bias\n",
        "\n",
        "  def forward(self, x: torch.Tensor) -> torch.Tensor:\n",
        "\n",
        "    _filter, _bias = self.build_filter()\n",
        "\n",
        "    assert _bias.shape == (self.out_channels, 4)\n",
        "    assert _filter.shape == (self.out_channels, 4, self.in_channels, 4, self.kernel_size, self.kernel_size)\n",
        "\n",
        "    # to be able to use torch.conv2d, we need to reshape the filter and bias to stack together all filters\n",
        "    _filter = _filter.reshape(self.out_channels * 4, self.in_channels * 4, self.kernel_size, self.kernel_size)\n",
        "    _bias = _bias.reshape(self.out_channels * 4)\n",
        "\n",
        "    # this time, also the input has shape `batch_size x in_channels x 4 x W x H`\n",
        "    # so we need to reshape it to `batch_size x in_channels*4 x W x H` to be able to use torch.conv2d\n",
        "    x = x.view(x.shape[0], self.in_channels*4, x.shape[-2], x.shape[-1])\n",
        "\n",
        "    out = torch.conv2d(x, _filter,\n",
        "                       stride=self.stride,\n",
        "                       padding=self.padding,\n",
        "                       dilation=self.dilation,\n",
        "                       bias=_bias)\n",
        "\n",
        "    # `out` has now shape `batch_size x out_channels*4 x W x H`\n",
        "    # we need to reshape it to `batch_size x out_channels x 4 x W x H` to have the shape we expect\n",
        "\n",
        "    return out.view(-1, self.out_channels, 4, out.shape[-2], out.shape[-1])\n",
        "\n"
      ],
      "execution_count": null,
      "outputs": []
    },
    {
      "cell_type": "code",
      "metadata": {
        "id": "lGVKWbPb3Npq"
      },
      "source": [
        "# Let's check if the layer is really equivariant\n",
        "\n",
        "in_channels = 5\n",
        "out_channels = 10\n",
        "kernel_size = 3\n",
        "batchsize = 4\n",
        "S = 33\n",
        "\n",
        "layer = GroupConv2d(in_channels=in_channels, out_channels=out_channels, kernel_size = kernel_size, padding=1, bias=True)\n",
        "layer.eval()\n",
        "\n",
        "x = torch.randn(batchsize, in_channels, 4, S, S)**2\n",
        "# the input image belongs to the space Y, so this time we use the new action to rotate it\n",
        "gx = rotate_p4(x, 1)\n",
        "\n",
        "# compute the output\n",
        "psi_x = layer(x)\n",
        "psi_gx = layer(gx)\n",
        "\n",
        "# the output is a function in the space Y, so we need to use the new action to rotate it\n",
        "g_psi_x = rotate_p4(psi_x, 1)\n",
        "\n",
        "assert psi_x.shape == g_psi_x.shape\n",
        "assert psi_x.shape == (batchsize, out_channels, 4, S, S)\n",
        "\n",
        "# check the model is giving meaningful outputs\n",
        "assert not torch.allclose(psi_x, torch.zeros_like(psi_x), atol=1e-4, rtol=1e-4)\n",
        "\n",
        "# check equivariance\n",
        "assert torch.allclose(psi_gx, g_psi_x, atol=1e-5, rtol=1e-5)\n",
        "\n",
        "# check the model has the right number of parameters\n",
        "assert layer.weight.numel() == in_channels * out_channels * 4* kernel_size**2\n",
        "assert layer.bias.numel() == out_channels"
      ],
      "execution_count": null,
      "outputs": []
    },
    {
      "cell_type": "markdown",
      "metadata": {
        "id": "C0LJwqB07397"
      },
      "source": [
        "# $p4$-Equivariant Networks\n",
        "\n"
      ]
    },
    {
      "cell_type": "code",
      "metadata": {
        "id": "ocEWdJ3s58dc"
      },
      "source": [
        "class C4CNN(torch.nn.Module):\n",
        "  def __init__(self, n_classes=10):\n",
        "\n",
        "    super(C4CNN, self).__init__()\n",
        "\n",
        "    channels = [8, 16, 32, 64, 128]\n",
        "\n",
        "    self.layers = torch.nn.Sequential(LiftingConv2d(1, channels[0], 3, 1),\n",
        "                                      torch.nn.MaxPool3d((1, 3, 3), (1, 2, 2), (0, 1, 1)),\n",
        "                                      torch.nn.ReLU(),\n",
        "                                      GroupConv2d(channels[0], channels[1], 3, 1),\n",
        "                                      torch.nn.MaxPool3d((1, 3, 3), (1, 2, 2), (0, 1, 1)),\n",
        "                                      torch.nn.ReLU(),\n",
        "                                      GroupConv2d(channels[1], channels[2], 3, 1),\n",
        "                                      torch.nn.MaxPool3d((1, 3, 3), (1, 2, 2), (0, 1, 1)),\n",
        "                                      torch.nn.ReLU(),\n",
        "                                      GroupConv2d(channels[2], channels[3], 3, 1),\n",
        "                                      torch.nn.MaxPool3d((1, 3, 3), (1, 2, 2), (0, 1, 1)),\n",
        "                                      torch.nn.ReLU(),\n",
        "                                      GroupConv2d(channels[3], channels[4], 3, 1),\n",
        "                                      torch.nn.MaxPool3d((4, 3, 3), (1, 1, 1), (0, 0, 0)),\n",
        "                                      torch.nn.ReLU())\n",
        "    self.linear = torch.nn.Linear(128, 10)\n",
        "\n",
        "  def forward(self, input: torch.Tensor):\n",
        "\n",
        "    output = self.layers(input)\n",
        "    return self.linear(output.reshape(input.shape[0], -1))\n"
      ],
      "execution_count": null,
      "outputs": []
    },
    {
      "cell_type": "code",
      "metadata": {
        "id": "m7CJu_wdDxmD"
      },
      "source": [
        "# Let's try our model\n",
        "\n",
        "net = C4CNN()\n",
        "\n",
        "x = torch.randn(5, 1, 33, 33)\n",
        "\n",
        "y = net(x)\n",
        "\n",
        "assert y.shape == (5, 10)\n",
        "\n",
        "# Let's check if the model is invariant!\n",
        "\n",
        "gx = rotate(x, 1)\n",
        "\n",
        "gy = net(gx)\n",
        "\n",
        "assert torch.allclose(y, gy, atol=1e-5, rtol=1e-5)"
      ],
      "execution_count": null,
      "outputs": []
    },
    {
      "cell_type": "markdown",
      "metadata": {
        "id": "61UFHuGcFBJi"
      },
      "source": [
        "## Data"
      ]
    },
    {
      "cell_type": "code",
      "metadata": {
        "id": "GMa9RaivEU8b",
        "colab": {
          "base_uri": "https://localhost:8080/"
        },
        "outputId": "9fd2a0b0-3a63-4b9e-ccfe-e1f5f6400f08"
      },
      "source": [
        "# download the dataset\n",
        "!wget -nc http://www.iro.umontreal.ca/~lisa/icml2007data/mnist_rotation_new.zip\n",
        "# uncompress the zip file\n",
        "!unzip -n mnist_rotation_new.zip -d mnist_rotation_new"
      ],
      "execution_count": null,
      "outputs": [
        {
          "output_type": "stream",
          "name": "stdout",
          "text": [
            "--2023-12-10 12:14:26--  http://www.iro.umontreal.ca/~lisa/icml2007data/mnist_rotation_new.zip\n",
            "Resolving www.iro.umontreal.ca (www.iro.umontreal.ca)... 132.204.26.36\n",
            "Connecting to www.iro.umontreal.ca (www.iro.umontreal.ca)|132.204.26.36|:80... connected.\n",
            "HTTP request sent, awaiting response... 200 OK\n",
            "Length: 58424278 (56M) [application/zip]\n",
            "Saving to: ‘mnist_rotation_new.zip’\n",
            "\n",
            "mnist_rotation_new. 100%[===================>]  55.72M  12.4MB/s    in 5.1s    \n",
            "\n",
            "2023-12-10 12:14:32 (10.9 MB/s) - ‘mnist_rotation_new.zip’ saved [58424278/58424278]\n",
            "\n",
            "Archive:  mnist_rotation_new.zip\n",
            "  inflating: mnist_rotation_new/mnist_all_rotation_normalized_float_train_valid.amat  \n",
            "  inflating: mnist_rotation_new/mnist_all_rotation_normalized_float_test.amat  \n"
          ]
        }
      ]
    },
    {
      "cell_type": "code",
      "source": [
        "!wget http://www-labs.iro.umontreal.ca/~lisa/icml2007data/mnist.zip\n",
        "!unzip -n mnist.zip -d mnist"
      ],
      "metadata": {
        "colab": {
          "base_uri": "https://localhost:8080/"
        },
        "id": "lmnn57JTyYTx",
        "outputId": "b9cb632a-62ab-4eb8-fd78-2fc99095a511"
      },
      "execution_count": null,
      "outputs": [
        {
          "output_type": "stream",
          "name": "stdout",
          "text": [
            "--2023-12-10 12:53:13--  http://www-labs.iro.umontreal.ca/~lisa/icml2007data/mnist.zip\n",
            "Resolving www-labs.iro.umontreal.ca (www-labs.iro.umontreal.ca)... 132.204.26.154\n",
            "Connecting to www-labs.iro.umontreal.ca (www-labs.iro.umontreal.ca)|132.204.26.154|:80... connected.\n",
            "HTTP request sent, awaiting response... 200 OK\n",
            "Length: 23653151 (23M) [application/zip]\n",
            "Saving to: ‘mnist.zip’\n",
            "\n",
            "mnist.zip           100%[===================>]  22.56M  5.00MB/s    in 7.2s    \n",
            "\n",
            "2023-12-10 12:53:21 (3.14 MB/s) - ‘mnist.zip’ saved [23653151/23653151]\n",
            "\n",
            "Archive:  mnist.zip\n",
            "  inflating: mnist/mnist_train.amat  \n",
            "  inflating: mnist/mnist_test.amat   \n"
          ]
        }
      ]
    },
    {
      "cell_type": "code",
      "metadata": {
        "id": "82WKqC3jFWqJ"
      },
      "source": [
        "from torch.utils.data import Dataset\n",
        "from torchvision.transforms import ToTensor\n",
        "import tqdm\n",
        "\n",
        "from PIL import Image\n",
        "\n",
        "device = 'cuda' if torch.cuda.is_available() else 'cpu'\n",
        "\n",
        "\n",
        "class MnistRotDataset(Dataset):\n",
        "\n",
        "    def __init__(self, mode, transform=None):\n",
        "        assert mode in ['train', 'test']\n",
        "\n",
        "        if mode == \"train\":\n",
        "            file = \"mnist_rotation_new/mnist_all_rotation_normalized_float_train_valid.amat\"\n",
        "        else:\n",
        "            file = \"mnist_rotation_new/mnist_all_rotation_normalized_float_test.amat\"\n",
        "\n",
        "        self.transform = transform\n",
        "\n",
        "        data = np.loadtxt(file, delimiter=' ')\n",
        "\n",
        "        self.labels = data[:, -1].astype(np.int64)\n",
        "        self.num_samples = len(self.labels)\n",
        "        self.images = data[:, :-1].reshape(-1, 28, 28).astype(np.float32)\n",
        "\n",
        "        # images in MNIST are only 28x28\n",
        "        # we pad them to have shape 33 x 33\n",
        "        self.images = np.pad(self.images, pad_width=((0,0), (2, 3), (2, 3)), mode='edge')\n",
        "\n",
        "        assert self.images.shape == (self.labels.shape[0], 33, 33)\n",
        "\n",
        "    def __getitem__(self, index):\n",
        "        image, label = self.images[index], self.labels[index]\n",
        "        image = Image.fromarray(image)\n",
        "        if self.transform is not None:\n",
        "            image = self.transform(image)\n",
        "        return image, label\n",
        "\n",
        "    def __len__(self):\n",
        "        return len(self.labels)\n",
        "\n",
        "\n",
        "train_set = MnistRotDataset('train', ToTensor())\n",
        "test_set = MnistRotDataset('test', ToTensor())\n",
        "\n",
        "def train_model(model: torch.nn.Module, train_set=train_set):\n",
        "\n",
        "  train_loader = torch.utils.data.DataLoader(train_set, batch_size=64)\n",
        "  loss_function = torch.nn.CrossEntropyLoss()\n",
        "  optimizer = torch.optim.Adam(model.parameters(), lr=5e-5, weight_decay=1e-5)\n",
        "\n",
        "  model.to(device)\n",
        "  model.train()\n",
        "\n",
        "  for epoch in tqdm.tqdm(range(30)):\n",
        "\n",
        "    for i, (x, t) in enumerate(train_loader):\n",
        "\n",
        "        optimizer.zero_grad()\n",
        "\n",
        "        x = x.to(device)\n",
        "        t = t.to(device)\n",
        "\n",
        "        y = model(x)\n",
        "\n",
        "        loss = loss_function(y, t)\n",
        "\n",
        "        loss.backward()\n",
        "\n",
        "        optimizer.step()\n",
        "\n",
        "  return model\n",
        "\n",
        "\n",
        "def test_model(model: torch.nn.Module, test_set=test_set):\n",
        "  test_loader = torch.utils.data.DataLoader(test_set, batch_size=64)\n",
        "  total = 0\n",
        "  correct = 0\n",
        "  with torch.no_grad():\n",
        "      model.eval()\n",
        "      for i, (x, t) in tqdm.tqdm(enumerate(test_loader)):\n",
        "\n",
        "          x = x.to(device)\n",
        "          t = t.to(device)\n",
        "\n",
        "          y = model(x)\n",
        "\n",
        "          _, prediction = torch.max(y.data, 1)\n",
        "          total += t.shape[0]\n",
        "          correct += (prediction == t).sum().item()\n",
        "  accuracy = correct/total*100.\n",
        "\n",
        "  return accuracy"
      ],
      "execution_count": null,
      "outputs": []
    },
    {
      "cell_type": "code",
      "source": [
        "class MnistDataset(Dataset):\n",
        "\n",
        "    def __init__(self, mode, transform=None):\n",
        "        assert mode in ['train', 'test']\n",
        "\n",
        "        if mode == \"train\":\n",
        "            file = \"mnist/mnist_train.amat\"\n",
        "        else:\n",
        "            file = \"mnist/mnist_test.amat\"\n",
        "\n",
        "        self.transform = transform\n",
        "\n",
        "        data = np.loadtxt(file)\n",
        "\n",
        "        self.labels = data[:, -1].astype(np.int64)\n",
        "        self.num_samples = len(self.labels)\n",
        "        self.images = data[:, :-1].reshape(-1, 28, 28).astype(np.float32)\n",
        "\n",
        "        # images in MNIST are only 28x28\n",
        "        # we pad them to have shape 33 x 33\n",
        "        self.images = np.pad(self.images, pad_width=((0,0), (2, 3), (2, 3)), mode='edge')\n",
        "\n",
        "        assert self.images.shape == (self.labels.shape[0], 33, 33)\n",
        "\n",
        "    def __getitem__(self, index):\n",
        "        image, label = self.images[index], self.labels[index]\n",
        "        image = Image.fromarray(image)\n",
        "        if self.transform is not None:\n",
        "            image = self.transform(image)\n",
        "        return image, label\n",
        "\n",
        "    def __len__(self):\n",
        "        return len(self.labels)\n"
      ],
      "metadata": {
        "id": "jIURG0ZtylmQ"
      },
      "execution_count": null,
      "outputs": []
    },
    {
      "cell_type": "code",
      "source": [
        "mnist_train_set = MnistDataset('train', ToTensor())\n",
        "test_transforms = torchvision.transforms.Compose([torchvision.transforms.RandomRotation(180),\n",
        "                                      torchvision.transforms.RandomHorizontalFlip(),\n",
        "                                      ToTensor()])\n",
        "mnist_transform_test = MnistDataset('test', transform=test_transforms)\n",
        "mnist_test_set = MnistDataset('test', ToTensor())"
      ],
      "metadata": {
        "id": "b2kr00QGy4i_"
      },
      "execution_count": null,
      "outputs": []
    },
    {
      "cell_type": "code",
      "source": [
        "device"
      ],
      "metadata": {
        "colab": {
          "base_uri": "https://localhost:8080/",
          "height": 35
        },
        "id": "h6rzH4II-1Xa",
        "outputId": "eafd54e3-daad-4aa4-b979-a68767516114"
      },
      "execution_count": null,
      "outputs": [
        {
          "output_type": "execute_result",
          "data": {
            "text/plain": [
              "'cuda'"
            ],
            "application/vnd.google.colaboratory.intrinsic+json": {
              "type": "string"
            }
          },
          "metadata": {},
          "execution_count": 14
        }
      ]
    },
    {
      "cell_type": "markdown",
      "metadata": {
        "id": "f_O2KLRpNo2z"
      },
      "source": [
        "## Train and test"
      ]
    },
    {
      "cell_type": "code",
      "metadata": {
        "id": "P-Ib5ZW2I4V-",
        "colab": {
          "base_uri": "https://localhost:8080/"
        },
        "outputId": "05046087-2e89-4f23-946c-ace16c10324d"
      },
      "source": [
        "model = C4CNN()\n",
        "\n",
        "model = train_model(model)\n",
        "\n",
        "acc = test_model(model)\n",
        "print(f'Test Accuracy: {acc :.3f}')\n"
      ],
      "execution_count": null,
      "outputs": [
        {
          "output_type": "stream",
          "name": "stderr",
          "text": [
            "100%|██████████| 30/30 [01:08<00:00,  2.27s/it]\n",
            "782it [00:05, 143.36it/s]"
          ]
        },
        {
          "output_type": "stream",
          "name": "stdout",
          "text": [
            "Test Accuracy: 93.434\n"
          ]
        },
        {
          "output_type": "stream",
          "name": "stderr",
          "text": [
            "\n"
          ]
        }
      ]
    },
    {
      "cell_type": "code",
      "source": [
        "model = C4CNN()\n",
        "\n",
        "model = train_model(model)\n",
        "\n",
        "acc = test_model(model)\n",
        "print(f'Test Accuracy: {acc :.3f}')"
      ],
      "metadata": {
        "colab": {
          "base_uri": "https://localhost:8080/"
        },
        "id": "4KgWqkbjpy2A",
        "outputId": "c160524d-9230-4b1f-db29-70b911b7f4cc"
      },
      "execution_count": null,
      "outputs": [
        {
          "output_type": "stream",
          "name": "stderr",
          "text": [
            "100%|██████████| 30/30 [01:10<00:00,  2.36s/it]\n",
            "782it [00:06, 121.11it/s]"
          ]
        },
        {
          "output_type": "stream",
          "name": "stdout",
          "text": [
            "Test Accuracy: 93.500\n"
          ]
        },
        {
          "output_type": "stream",
          "name": "stderr",
          "text": [
            "\n"
          ]
        }
      ]
    },
    {
      "cell_type": "code",
      "metadata": {
        "id": "q0uK2r0yR5fA"
      },
      "source": [
        "# Let's check if the model is still invariant!\n",
        "\n",
        "x = torch.randn(5, 1, 33, 33)\n",
        "\n",
        "y = net(x)\n",
        "\n",
        "gx = rotate(x, 1)\n",
        "\n",
        "gy = net(gx)\n",
        "\n",
        "assert torch.allclose(y, gy, atol=1e-5, rtol=1e-5)"
      ],
      "execution_count": null,
      "outputs": []
    },
    {
      "cell_type": "markdown",
      "metadata": {
        "id": "QmuhBQE3QyNZ"
      },
      "source": [
        "### Batch Normalization"
      ]
    },
    {
      "cell_type": "code",
      "metadata": {
        "id": "Aj1AYjDKhw4M"
      },
      "source": [
        "class C4CNNWithBatchNorm(torch.nn.Module):\n",
        "  def __init__(self, n_classes=10):\n",
        "\n",
        "    super(C4CNNWithBatchNorm, self).__init__()\n",
        "\n",
        "    channels = [8, 16, 32, 64, 128]\n",
        "\n",
        "    self.layers = torch.nn.Sequential(LiftingConv2d(1, channels[0], 3, 1),\n",
        "                                      torch.nn.BatchNorm3d(channels[0]),\n",
        "                                      torch.nn.MaxPool3d((1, 3, 3), (1, 2, 2), (0, 1, 1)),\n",
        "                                      torch.nn.ReLU(),\n",
        "                                      GroupConv2d(channels[0], channels[1], 3, 1),\n",
        "                                      torch.nn.BatchNorm3d(channels[1]),\n",
        "                                      torch.nn.MaxPool3d((1, 3, 3), (1, 2, 2), (0, 1, 1)),\n",
        "                                      torch.nn.ReLU(),\n",
        "                                      GroupConv2d(channels[1], channels[2], 3, 1),\n",
        "                                      torch.nn.BatchNorm3d(channels[2]),\n",
        "                                      torch.nn.MaxPool3d((1, 3, 3), (1, 2, 2), (0, 1, 1)),\n",
        "                                      torch.nn.ReLU(),\n",
        "                                      GroupConv2d(channels[2], channels[3], 3, 1),\n",
        "                                      torch.nn.BatchNorm3d(channels[3]),\n",
        "                                      torch.nn.MaxPool3d((1, 3, 3), (1, 2, 2), (0, 1, 1)),\n",
        "                                      torch.nn.ReLU(),\n",
        "                                      GroupConv2d(channels[3], channels[4], 3, 1),\n",
        "                                      torch.nn.BatchNorm3d(channels[4]))\n",
        "\n",
        "    self.pool = torch.nn.MaxPool3d((4, 3, 3), (1, 1, 1), (0, 0, 0))\n",
        "    self.act = torch.nn.ReLU()\n",
        "\n",
        "    self.linear = torch.nn.Linear(128, 10)\n",
        "\n",
        "  def forward(self, input: torch.Tensor):\n",
        "    output = self.layers(input)\n",
        "    output = self.act(self.pool(output))\n",
        "    return self.linear(output.reshape(input.shape[0], -1))\n",
        "\n",
        "  def before_pooling(self, input):\n",
        "    with torch.no_grad():\n",
        "      output = self.layers(input)\n",
        "    return output\n",
        "\n",
        "# Let's try our model\n",
        "\n",
        "net = C4CNNWithBatchNorm()\n",
        "\n",
        "x = torch.randn(5, 1, 33, 33)\n",
        "\n",
        "y = net(x)\n",
        "\n",
        "assert y.shape == (5, 10)\n",
        "\n",
        "# Let's check if the model is invariant!\n",
        "\n",
        "gx = rotate(x, 1)\n",
        "\n",
        "gy = net(gx)\n",
        "\n",
        "assert torch.allclose(y, gy, atol=1e-5, rtol=1e-5)"
      ],
      "execution_count": null,
      "outputs": []
    },
    {
      "cell_type": "code",
      "source": [
        "model = C4CNNWithBatchNorm()\n",
        "np.sum([p.numel() for p in model.parameters()])"
      ],
      "metadata": {
        "colab": {
          "base_uri": "https://localhost:8080/"
        },
        "id": "OVah3R-4chc2",
        "outputId": "8d3e8d44-2f16-4775-cd91-8cedb8469254"
      },
      "execution_count": null,
      "outputs": [
        {
          "output_type": "execute_result",
          "data": {
            "text/plain": [
              "393786"
            ]
          },
          "metadata": {},
          "execution_count": 17
        }
      ]
    },
    {
      "cell_type": "markdown",
      "metadata": {
        "id": "kAdSgAb95QWU"
      },
      "source": [
        "You can now train and test your model.\n",
        "With the default parameters you should achieve an accuracy of roughly **95%**."
      ]
    },
    {
      "cell_type": "code",
      "source": [
        "model = C4CNNWithBatchNorm()\n",
        "\n",
        "model = train_model(model)\n",
        "\n",
        "acc = test_model(model)\n",
        "print(f'Test Accuracy: {acc :.3f}')"
      ],
      "metadata": {
        "colab": {
          "base_uri": "https://localhost:8080/"
        },
        "id": "9R38pRvOqFVa",
        "outputId": "6b9ae452-afec-4edd-8d9b-8fdc2055f337"
      },
      "execution_count": null,
      "outputs": [
        {
          "output_type": "stream",
          "name": "stderr",
          "text": [
            "100%|██████████| 30/30 [01:01<00:00,  2.06s/it]\n",
            "782it [00:07, 109.93it/s]"
          ]
        },
        {
          "output_type": "stream",
          "name": "stdout",
          "text": [
            "Test Accuracy: 96.172\n"
          ]
        },
        {
          "output_type": "stream",
          "name": "stderr",
          "text": [
            "\n"
          ]
        }
      ]
    },
    {
      "cell_type": "code",
      "source": [
        "model = C4CNNWithBatchNorm()\n",
        "\n",
        "model = train_model(model, mnist_train_set)\n",
        "\n",
        "acc = test_model(model, mnist_test_set)\n",
        "print(f'Test Accuracy: {acc :.3f}')"
      ],
      "metadata": {
        "colab": {
          "base_uri": "https://localhost:8080/"
        },
        "id": "C9e0bRH71Wzh",
        "outputId": "c6a16183-b4c7-47e4-9c8c-e4553a639fde"
      },
      "execution_count": null,
      "outputs": [
        {
          "output_type": "stream",
          "name": "stderr",
          "text": [
            "100%|██████████| 30/30 [01:06<00:00,  2.22s/it]\n",
            "782it [00:06, 122.99it/s]"
          ]
        },
        {
          "output_type": "stream",
          "name": "stdout",
          "text": [
            "Test Accuracy: 95.748\n"
          ]
        },
        {
          "output_type": "stream",
          "name": "stderr",
          "text": [
            "\n"
          ]
        }
      ]
    },
    {
      "cell_type": "code",
      "source": [
        "acc = test_model(model, mnist_transform_test)\n",
        "print(f'Test Accuracy: {acc :.3f}')"
      ],
      "metadata": {
        "colab": {
          "base_uri": "https://localhost:8080/"
        },
        "id": "a0vkpe0W1glf",
        "outputId": "e7ea81af-9d87-4e7e-ab6d-e2705409894c"
      },
      "execution_count": null,
      "outputs": [
        {
          "output_type": "stream",
          "name": "stderr",
          "text": [
            "782it [00:18, 42.46it/s]"
          ]
        },
        {
          "output_type": "stream",
          "name": "stdout",
          "text": [
            "Test Accuracy: 62.956\n"
          ]
        },
        {
          "output_type": "stream",
          "name": "stderr",
          "text": [
            "\n"
          ]
        }
      ]
    },
    {
      "cell_type": "code",
      "metadata": {
        "id": "5EHe7DkRiI6V",
        "colab": {
          "base_uri": "https://localhost:8080/"
        },
        "outputId": "c7f411ba-5c12-4e10-9a9c-d0c3aa543039"
      },
      "source": [
        "# Let's check if the model is still invariant!\n",
        "x = torch.randn(5, 1, 33, 33)\n",
        "y = net(x)\n",
        "gx = rotate(x, 1)\n",
        "gy = net(gx)\n",
        "assert torch.allclose(y, gy, atol=1e-5, rtol=1e-5)\n"
      ],
      "execution_count": null,
      "outputs": [
        {
          "output_type": "stream",
          "name": "stderr",
          "text": [
            "100%|██████████| 30/30 [01:11<00:00,  2.37s/it]\n",
            "782it [00:05, 146.34it/s]"
          ]
        },
        {
          "output_type": "stream",
          "name": "stdout",
          "text": [
            "Test Accuracy: 95.888\n"
          ]
        },
        {
          "output_type": "stream",
          "name": "stderr",
          "text": [
            "\n"
          ]
        }
      ]
    },
    {
      "cell_type": "markdown",
      "source": [
        "### Without equivariance"
      ],
      "metadata": {
        "id": "M8XDsk9XZhjJ"
      }
    },
    {
      "cell_type": "code",
      "source": [
        "class CNNWithBatchNorm(torch.nn.Module):\n",
        "  def __init__(self, n_classes=10):\n",
        "\n",
        "    super(CNNWithBatchNorm, self).__init__()\n",
        "\n",
        "    channels = [16, 32, 64, 128, 256]\n",
        "\n",
        "    self.layers = torch.nn.Sequential(torch.nn.Conv2d(1, channels[0], 3, padding=1),\n",
        "                                      torch.nn.BatchNorm2d(channels[0]),\n",
        "                                      torch.nn.MaxPool2d((3, 3), (2, 2), (1, 1)),\n",
        "                                      torch.nn.ReLU(),\n",
        "                                      torch.nn.Conv2d(channels[0], channels[1], 3, padding=1),\n",
        "                                      torch.nn.BatchNorm2d(channels[1]),\n",
        "                                      torch.nn.MaxPool2d((3, 3), (2, 2), (1, 1)),\n",
        "                                      torch.nn.ReLU(),\n",
        "                                      torch.nn.Conv2d(channels[1], channels[2], 3, padding=1),\n",
        "                                      torch.nn.BatchNorm2d(channels[2]),\n",
        "                                      torch.nn.MaxPool2d((3, 3), (2, 2), (1, 1)),\n",
        "                                      torch.nn.ReLU(),\n",
        "                                      torch.nn.Conv2d(channels[2], channels[3], 3, padding=1),\n",
        "                                      torch.nn.BatchNorm2d(channels[3]),\n",
        "                                      torch.nn.MaxPool2d((3, 3), (2, 2), (1, 1)),\n",
        "                                      torch.nn.ReLU(),\n",
        "                                      torch.nn.Conv2d(channels[3], channels[4], 3, padding=1),\n",
        "                                      torch.nn.BatchNorm2d(channels[4]),\n",
        "                                      torch.nn.MaxPool2d((3, 3), (1, 1), (0, 0)),\n",
        "                                      torch.nn.ReLU())\n",
        "    self.linear = torch.nn.Linear(256, 10)\n",
        "\n",
        "  def forward(self, input: torch.Tensor):\n",
        "    output = self.layers(input)\n",
        "    return self.linear(output.reshape(input.shape[0], -1))\n",
        "\n",
        "\n",
        "# Let's try our model\n",
        "\n",
        "net = CNNWithBatchNorm()\n",
        "\n",
        "x = torch.randn(5, 1, 33, 33)\n",
        "\n",
        "y = net(x)\n",
        "\n",
        "assert y.shape == (5, 10)\n",
        "\n",
        "# Let's check if the model is invariant!\n",
        "\n",
        "gx = rotate(x, 1)\n",
        "\n",
        "gy = net(gx)\n",
        "\n",
        "assert torch.allclose(y, gy, atol=1e-5, rtol=1e-5)"
      ],
      "metadata": {
        "colab": {
          "base_uri": "https://localhost:8080/",
          "height": 210
        },
        "id": "iJg6sHvBZlgn",
        "outputId": "31a480a4-2844-44fa-c8a9-4042b8fe078e"
      },
      "execution_count": null,
      "outputs": [
        {
          "output_type": "error",
          "ename": "AssertionError",
          "evalue": "ignored",
          "traceback": [
            "\u001b[0;31m---------------------------------------------------------------------------\u001b[0m",
            "\u001b[0;31mAssertionError\u001b[0m                            Traceback (most recent call last)",
            "\u001b[0;32m<ipython-input-19-8203dbc3eb09>\u001b[0m in \u001b[0;36m<cell line: 51>\u001b[0;34m()\u001b[0m\n\u001b[1;32m     49\u001b[0m \u001b[0mgy\u001b[0m \u001b[0;34m=\u001b[0m \u001b[0mnet\u001b[0m\u001b[0;34m(\u001b[0m\u001b[0mgx\u001b[0m\u001b[0;34m)\u001b[0m\u001b[0;34m\u001b[0m\u001b[0;34m\u001b[0m\u001b[0m\n\u001b[1;32m     50\u001b[0m \u001b[0;34m\u001b[0m\u001b[0m\n\u001b[0;32m---> 51\u001b[0;31m \u001b[0;32massert\u001b[0m \u001b[0mtorch\u001b[0m\u001b[0;34m.\u001b[0m\u001b[0mallclose\u001b[0m\u001b[0;34m(\u001b[0m\u001b[0my\u001b[0m\u001b[0;34m,\u001b[0m \u001b[0mgy\u001b[0m\u001b[0;34m,\u001b[0m \u001b[0matol\u001b[0m\u001b[0;34m=\u001b[0m\u001b[0;36m1e-5\u001b[0m\u001b[0;34m,\u001b[0m \u001b[0mrtol\u001b[0m\u001b[0;34m=\u001b[0m\u001b[0;36m1e-5\u001b[0m\u001b[0;34m)\u001b[0m\u001b[0;34m\u001b[0m\u001b[0;34m\u001b[0m\u001b[0m\n\u001b[0m",
            "\u001b[0;31mAssertionError\u001b[0m: "
          ]
        }
      ]
    },
    {
      "cell_type": "code",
      "source": [
        "model = CNNWithBatchNorm()\n",
        "print(np.sum([p.numel() for p in model.parameters()]))"
      ],
      "metadata": {
        "colab": {
          "base_uri": "https://localhost:8080/"
        },
        "id": "Oqmxglgndq92",
        "outputId": "0c297a39-9d9d-4232-8fe7-8c92460c1621"
      },
      "execution_count": null,
      "outputs": [
        {
          "output_type": "stream",
          "name": "stdout",
          "text": [
            "395882\n"
          ]
        }
      ]
    },
    {
      "cell_type": "code",
      "source": [
        "model = train_model(model)\n",
        "\n",
        "acc = test_model(model)\n",
        "print(f'Test Accuracy: {acc :.3f}')\n",
        "\n",
        "\n",
        "# Let's check if the model is still invariant!\n",
        "x = torch.randn(5, 1, 33, 33)\n",
        "y = net(x)\n",
        "gx = rotate(x, 1)\n",
        "gy = net(gx)\n",
        "assert torch.allclose(y, gy, atol=1e-5, rtol=1e-5)"
      ],
      "metadata": {
        "colab": {
          "base_uri": "https://localhost:8080/",
          "height": 262
        },
        "id": "bPKGw5Lzb6tH",
        "outputId": "da648c78-5e02-4184-cc99-1041928a9630"
      },
      "execution_count": null,
      "outputs": [
        {
          "output_type": "stream",
          "name": "stderr",
          "text": [
            "100%|██████████| 30/30 [00:43<00:00,  1.44s/it]\n",
            "782it [00:04, 177.10it/s]"
          ]
        },
        {
          "output_type": "stream",
          "name": "stdout",
          "text": [
            "Test Accuracy: 92.428\n"
          ]
        },
        {
          "output_type": "stream",
          "name": "stderr",
          "text": [
            "\n"
          ]
        },
        {
          "output_type": "error",
          "ename": "AssertionError",
          "evalue": "ignored",
          "traceback": [
            "\u001b[0;31m---------------------------------------------------------------------------\u001b[0m",
            "\u001b[0;31mAssertionError\u001b[0m                            Traceback (most recent call last)",
            "\u001b[0;32m<ipython-input-21-532401450478>\u001b[0m in \u001b[0;36m<cell line: 12>\u001b[0;34m()\u001b[0m\n\u001b[1;32m     10\u001b[0m \u001b[0mgx\u001b[0m \u001b[0;34m=\u001b[0m \u001b[0mrotate\u001b[0m\u001b[0;34m(\u001b[0m\u001b[0mx\u001b[0m\u001b[0;34m,\u001b[0m \u001b[0;36m1\u001b[0m\u001b[0;34m)\u001b[0m\u001b[0;34m\u001b[0m\u001b[0;34m\u001b[0m\u001b[0m\n\u001b[1;32m     11\u001b[0m \u001b[0mgy\u001b[0m \u001b[0;34m=\u001b[0m \u001b[0mnet\u001b[0m\u001b[0;34m(\u001b[0m\u001b[0mgx\u001b[0m\u001b[0;34m)\u001b[0m\u001b[0;34m\u001b[0m\u001b[0;34m\u001b[0m\u001b[0m\n\u001b[0;32m---> 12\u001b[0;31m \u001b[0;32massert\u001b[0m \u001b[0mtorch\u001b[0m\u001b[0;34m.\u001b[0m\u001b[0mallclose\u001b[0m\u001b[0;34m(\u001b[0m\u001b[0my\u001b[0m\u001b[0;34m,\u001b[0m \u001b[0mgy\u001b[0m\u001b[0;34m,\u001b[0m \u001b[0matol\u001b[0m\u001b[0;34m=\u001b[0m\u001b[0;36m1e-5\u001b[0m\u001b[0;34m,\u001b[0m \u001b[0mrtol\u001b[0m\u001b[0;34m=\u001b[0m\u001b[0;36m1e-5\u001b[0m\u001b[0;34m)\u001b[0m\u001b[0;34m\u001b[0m\u001b[0;34m\u001b[0m\u001b[0m\n\u001b[0m",
            "\u001b[0;31mAssertionError\u001b[0m: "
          ]
        }
      ]
    },
    {
      "cell_type": "code",
      "source": [
        "model = CNNWithBatchNorm()\n",
        "model = train_model(model, mnist_train_set)\n",
        "\n",
        "acc = test_model(model, mnist_test_set)\n",
        "print(f'Test Accuracy: {acc :.3f}')"
      ],
      "metadata": {
        "colab": {
          "base_uri": "https://localhost:8080/"
        },
        "id": "jzf2MfTo2Yfr",
        "outputId": "6e73ce17-0e06-4014-f797-51a9bd74a675"
      },
      "execution_count": null,
      "outputs": [
        {
          "output_type": "stream",
          "name": "stderr",
          "text": [
            "100%|██████████| 30/30 [00:57<00:00,  1.92s/it]\n",
            "782it [00:04, 187.99it/s]"
          ]
        },
        {
          "output_type": "stream",
          "name": "stdout",
          "text": [
            "Test Accuracy: 98.200\n"
          ]
        },
        {
          "output_type": "stream",
          "name": "stderr",
          "text": [
            "\n"
          ]
        }
      ]
    },
    {
      "cell_type": "code",
      "source": [
        "acc = test_model(model, mnist_transform_test)\n",
        "print(f'Test Accuracy: {acc :.3f}')"
      ],
      "metadata": {
        "colab": {
          "base_uri": "https://localhost:8080/"
        },
        "id": "9urbTK4E2e_0",
        "outputId": "a5772a71-1687-4257-af0b-2ddde1ce811d"
      },
      "execution_count": null,
      "outputs": [
        {
          "output_type": "stream",
          "name": "stderr",
          "text": [
            "782it [00:11, 71.00it/s]"
          ]
        },
        {
          "output_type": "stream",
          "name": "stdout",
          "text": [
            "Test Accuracy: 34.114\n"
          ]
        },
        {
          "output_type": "stream",
          "name": "stderr",
          "text": [
            "\n"
          ]
        }
      ]
    },
    {
      "cell_type": "markdown",
      "metadata": {
        "id": "BkWHybYLSvO1"
      },
      "source": [
        "# $p4m$-Equivariant Networks\n"
      ]
    },
    {
      "cell_type": "markdown",
      "source": [
        "## Model"
      ],
      "metadata": {
        "id": "IcqZK6_JiB-_"
      }
    },
    {
      "cell_type": "code",
      "source": [
        "class D4LiftingConv2d(torch.nn.Module):\n",
        "\n",
        "  def __init__(self, in_channels: int, out_channels: int, kernel_size: int, padding: int = 0, bias: bool = True):\n",
        "\n",
        "    super(D4LiftingConv2d, self).__init__()\n",
        "\n",
        "    self.kernel_size = kernel_size\n",
        "    self.stride = 1\n",
        "    self.dilation = 1\n",
        "    self.padding = padding\n",
        "    self.out_channels = out_channels\n",
        "    self.in_channels = in_channels\n",
        "\n",
        "    self.weight = None\n",
        "\n",
        "    self.weight = torch.nn.Parameter(torch.Tensor(out_channels, in_channels, kernel_size, kernel_size))\n",
        "    torch.nn.init.normal_(self.weight, mean=0.0, std=1.0 / np.sqrt(out_channels * in_channels))\n",
        "\n",
        "    self.bias = None\n",
        "    if bias:\n",
        "      self.bias = torch.nn.Parameter(torch.ones(out_channels)*0.01)\n",
        "\n",
        "  def build_filter(self) ->torch.Tensor:\n",
        "    _filter = None\n",
        "    _bias = None\n",
        "\n",
        "\n",
        "    rotated_filters = [torch.rot90(self.weight, k=r, dims=[-2, -1]) for r in range(4)]\n",
        "    rotated_flipped_filters = [torch.rot90(torch.flip(self.weight, dims=[-2]), k=r, dims=[-2, -1]) for r in range(4)]\n",
        "    _filter = torch.stack(rotated_filters + rotated_flipped_filters, dim=1)\n",
        "\n",
        "\n",
        "    if self.bias is not None:\n",
        "      _bias = self.bias[:, None].expand(-1, 8)\n",
        "    else:\n",
        "      _bias = None\n",
        "\n",
        "    return _filter, _bias\n",
        "\n",
        "  def forward(self, x: torch.Tensor) -> torch.Tensor:\n",
        "\n",
        "    _filter, _bias = self.build_filter()\n",
        "\n",
        "    assert _bias.shape == (self.out_channels, 8)\n",
        "    assert _filter.shape == (self.out_channels, 8, self.in_channels, self.kernel_size, self.kernel_size)\n",
        "\n",
        "    _filter = _filter.reshape(self.out_channels * 8, self.in_channels, self.kernel_size, self.kernel_size)\n",
        "    _bias = _bias.reshape(self.out_channels * 8)\n",
        "\n",
        "    out = torch.conv2d(x, _filter,\n",
        "                       stride=self.stride,\n",
        "                       padding=self.padding,\n",
        "                       dilation=self.dilation,\n",
        "                       bias=_bias)\n",
        "\n",
        "    return out.view(-1, self.out_channels, 8, out.shape[-2], out.shape[-1])\n",
        "\n"
      ],
      "metadata": {
        "id": "5PNG3w0Ufktx"
      },
      "execution_count": null,
      "outputs": []
    },
    {
      "cell_type": "code",
      "metadata": {
        "id": "tpBxVtAPyvWD"
      },
      "source": [
        "def rotate_p4m(y: torch.Tensor, g: int) -> torch.Tensor:\n",
        "  assert len(y.shape) >= 3\n",
        "  assert y.shape[-3] == 8\n",
        "\n",
        "  f = g // 4\n",
        "  r = g % 4\n",
        "\n",
        "  y_split = y.reshape(*y.shape[:-3], 2, 4, *y.shape[-2:])\n",
        "  if f == 1:\n",
        "    rolled_y = torch.flip(y_split, dims=[-4, -3, -2])\n",
        "    y_split = torch.roll(rolled_y, 1, dims=-3)\n",
        "\n",
        "  return rotate_p4(y_split, r).reshape(*y.shape)\n"
      ],
      "execution_count": null,
      "outputs": []
    },
    {
      "cell_type": "code",
      "metadata": {
        "colab": {
          "base_uri": "https://localhost:8080/",
          "height": 975
        },
        "outputId": "5e301928-0bea-434c-8e8c-73967fc9e04d",
        "id": "lCAd0p-JyvWE"
      },
      "source": [
        "# Let's test a rotation by r=1\n",
        "\n",
        "y = torch.randn(1, 1, 8, 11, 11)**2\n",
        "g = 5\n",
        "ry = rotate_p4m(y, g)\n",
        "\n",
        "R = 1\n",
        "gy = rotate(y, R)\n",
        "ry2 = rotate_p4m(gy, g)\n",
        "\n",
        "fig, axes = plt.subplots(1, 8, sharex=True, sharey=True, squeeze=True, figsize=(20, 4))\n",
        "for i in range(8):\n",
        "  axes[i].imshow(y[0, 0, i].numpy())\n",
        "fig.suptitle('Original y')\n",
        "plt.show()\n",
        "\n",
        "fig, axes = plt.subplots(1, 8, sharex=True, sharey=True, squeeze=True, figsize=(20, 4))\n",
        "for i in range(8):\n",
        "  axes[i].imshow(ry2[0, 0, i].numpy())\n",
        "fig.suptitle('Rotated y')\n",
        "plt.show()\n",
        "\n",
        "fig, axes = plt.subplots(1, 8, sharex=True, sharey=True, squeeze=True, figsize=(20, 4))\n",
        "for i in range(8):\n",
        "  axes[i].imshow(ry[0, 0, i].numpy())\n",
        "fig.suptitle('Rotated y')\n",
        "plt.show()"
      ],
      "execution_count": null,
      "outputs": [
        {
          "output_type": "display_data",
          "data": {
            "text/plain": [
              "<Figure size 2000x400 with 8 Axes>"
            ],
            "image/png": "[encoded data removed]"
          },
          "metadata": {}
        },
        {
          "output_type": "display_data",
          "data": {
            "text/plain": [
              "<Figure size 2000x400 with 8 Axes>"
            ],
            "image/png": "[encoded data removed]"
          },
          "metadata": {}
        },
        {
          "output_type": "display_data",
          "data": {
            "text/plain": [
              "<Figure size 2000x400 with 8 Axes>"
            ],
            "image/png": "[encoded data removed]"
          },
          "metadata": {}
        }
      ]
    },
    {
      "cell_type": "code",
      "source": [
        "class D4GroupConv2d(torch.nn.Module):\n",
        "\n",
        "  def __init__(self, in_channels: int, out_channels: int, kernel_size: int, padding: int = 0, bias: bool = True):\n",
        "\n",
        "    super(D4GroupConv2d, self).__init__()\n",
        "\n",
        "    self.kernel_size = kernel_size\n",
        "    self.stride = 1\n",
        "    self.dilation = 1\n",
        "    self.padding = padding\n",
        "    self.out_channels = out_channels\n",
        "    self.in_channels = in_channels\n",
        "\n",
        "    self.weight = None\n",
        "\n",
        "    self.weight = torch.nn.Parameter(torch.Tensor(out_channels, in_channels, 8, kernel_size, kernel_size))\n",
        "    torch.nn.init.normal_(self.weight, mean=0.0, std=1.0 / np.sqrt(out_channels * in_channels))\n",
        "\n",
        "    self.bias = None\n",
        "    if bias:\n",
        "      self.bias = torch.nn.Parameter(torch.ones(out_channels)*0.01)\n",
        "\n",
        "  def build_filter(self) ->torch.Tensor:\n",
        "    _filter = None\n",
        "    _bias = None\n",
        "\n",
        "    _filter = torch.stack([rotate_p4m(self.weight, r) for r in range(8)], dim=1)\n",
        "\n",
        "    if self.bias is not None:\n",
        "      _bias = self.bias[:, None].expand(-1, 8)\n",
        "    else:\n",
        "      _bias = None\n",
        "\n",
        "    return _filter, _bias\n",
        "\n",
        "  def forward(self, x: torch.Tensor) -> torch.Tensor:\n",
        "\n",
        "    _filter, _bias = self.build_filter()\n",
        "\n",
        "    assert _bias.shape == (self.out_channels, 8)\n",
        "    assert _filter.shape == (self.out_channels, 8, self.in_channels, 8, self.kernel_size, self.kernel_size)\n",
        "\n",
        "    _filter = _filter.reshape(self.out_channels * 8, self.in_channels * 8, self.kernel_size, self.kernel_size)\n",
        "    _bias = _bias.reshape(self.out_channels * 8)\n",
        "\n",
        "    x = x.view(x.shape[0], self.in_channels*8, x.shape[-2], x.shape[-1])\n",
        "\n",
        "    out = torch.conv2d(x, _filter,\n",
        "                       stride=self.stride,\n",
        "                       padding=self.padding,\n",
        "                       dilation=self.dilation,\n",
        "                       bias=_bias)\n",
        "\n",
        "    return out.view(-1, self.out_channels, 8, out.shape[-2], out.shape[-1])"
      ],
      "metadata": {
        "id": "x5iJR9FPvcug"
      },
      "execution_count": null,
      "outputs": []
    },
    {
      "cell_type": "code",
      "metadata": {
        "id": "iNmzOSddFvwG"
      },
      "source": [
        "class D4CNNWithBatchNorm(torch.nn.Module):\n",
        "  def __init__(self, n_classes=10):\n",
        "\n",
        "    super(D4CNNWithBatchNorm, self).__init__()\n",
        "\n",
        "    channels = [4, 16, 16, 64, 64]\n",
        "\n",
        "    self.layers = torch.nn.Sequential(D4LiftingConv2d(1, channels[0], 3, 1),\n",
        "                                      torch.nn.BatchNorm3d(channels[0]),\n",
        "                                      torch.nn.MaxPool3d((1, 3, 3), (1, 2, 2), (0, 1, 1)),\n",
        "                                      torch.nn.ReLU(),\n",
        "                                      D4GroupConv2d(channels[0], channels[1], 3, 1),\n",
        "                                      torch.nn.BatchNorm3d(channels[1]),\n",
        "                                      torch.nn.MaxPool3d((1, 3, 3), (1, 2, 2), (0, 1, 1)),\n",
        "                                      torch.nn.ReLU(),\n",
        "                                      D4GroupConv2d(channels[1], channels[2], 3, 1),\n",
        "                                      torch.nn.BatchNorm3d(channels[2]),\n",
        "                                      torch.nn.MaxPool3d((1, 3, 3), (1, 2, 2), (0, 1, 1)),\n",
        "                                      torch.nn.ReLU(),\n",
        "                                      D4GroupConv2d(channels[2], channels[3], 3, 1),\n",
        "                                      torch.nn.BatchNorm3d(channels[3]),\n",
        "                                      torch.nn.MaxPool3d((1, 3, 3), (1, 2, 2), (0, 1, 1)),\n",
        "                                      torch.nn.ReLU(),\n",
        "                                      D4GroupConv2d(channels[3], channels[4], 3, 1),\n",
        "                                      torch.nn.BatchNorm3d(channels[4]),\n",
        "                                      torch.nn.MaxPool3d((8, 3, 3), (1, 1, 1), (0, 0, 0)),\n",
        "                                      torch.nn.ReLU())\n",
        "    self.linear = torch.nn.Linear(64, 10)\n",
        "\n",
        "  def forward(self, input: torch.Tensor):\n",
        "\n",
        "    output = self.layers(input)\n",
        "    return self.linear(output.reshape(input.shape[0], -1))\n"
      ],
      "execution_count": null,
      "outputs": []
    },
    {
      "cell_type": "markdown",
      "source": [
        "## Train and test"
      ],
      "metadata": {
        "id": "w-oJrqD8iIW2"
      }
    },
    {
      "cell_type": "code",
      "metadata": {
        "colab": {
          "base_uri": "https://localhost:8080/"
        },
        "id": "LlRJiWARFvwl",
        "outputId": "00c5a873-d61a-4342-bb61-da2c3c02b217"
      },
      "source": [
        "# Let's try our model\n",
        "\n",
        "net = D4CNNWithBatchNorm()\n",
        "print(np.sum([p.numel() for p in net.parameters()]))\n",
        "\n",
        "x = torch.randn(5, 1, 33, 33)\n",
        "\n",
        "y = net(x)\n",
        "\n",
        "assert y.shape == (5, 10)\n",
        "\n",
        "# Let's check if the model is invariant!\n",
        "\n",
        "gx = rotate(x, 1)\n",
        "\n",
        "gy = net(gx)\n",
        "\n",
        "assert torch.allclose(y, gy, atol=1e-5, rtol=1e-5)"
      ],
      "execution_count": null,
      "outputs": [
        {
          "output_type": "stream",
          "name": "stdout",
          "text": [
            "392858\n"
          ]
        }
      ]
    },
    {
      "cell_type": "code",
      "source": [
        "model = D4CNNWithBatchNorm()\n",
        "\n",
        "model = train_model(model)\n",
        "\n",
        "acc = test_model(model)\n",
        "print(f'Test Accuracy: {acc :.3f}')\n",
        "\n",
        "\n",
        "# Let's check if the model is still invariant!\n",
        "x = torch.randn(5, 1, 33, 33)\n",
        "y = net(x)\n",
        "gx = rotate(x, 1)\n",
        "gy = net(gx)\n",
        "assert torch.allclose(y, gy, atol=1e-5, rtol=1e-5)"
      ],
      "metadata": {
        "colab": {
          "base_uri": "https://localhost:8080/"
        },
        "id": "outkWlqfFzq3",
        "outputId": "e8298acd-7b3d-49c6-b25b-f45f230c8c2b"
      },
      "execution_count": null,
      "outputs": [
        {
          "output_type": "stream",
          "name": "stderr",
          "text": [
            "100%|██████████| 30/30 [01:25<00:00,  2.84s/it]\n",
            "782it [00:07, 98.37it/s] \n"
          ]
        },
        {
          "output_type": "stream",
          "name": "stdout",
          "text": [
            "Test Accuracy: 93.948\n"
          ]
        }
      ]
    },
    {
      "cell_type": "code",
      "source": [
        "x = torch.randn(5, 1, 33, 33)\n",
        "y = net(x)\n",
        "gx = torch.flip(x, dims=[-2])\n",
        "gy = net(gx)\n",
        "assert torch.allclose(y, gy, atol=1e-5, rtol=1e-5)"
      ],
      "metadata": {
        "id": "IpkbSc8JJKAe"
      },
      "execution_count": null,
      "outputs": []
    },
    {
      "cell_type": "code",
      "source": [
        "model = D4CNNWithBatchNorm()\n",
        "\n",
        "model = train_model(model, mnist_train_set)\n",
        "\n",
        "acc = test_model(model, mnist_test_set)\n",
        "print(f'Test Accuracy: {acc :.3f}')\n",
        "acc = test_model(model, mnist_transform_test)\n",
        "print(f'Test Accuracy: {acc :.3f}')"
      ],
      "metadata": {
        "id": "mp5uUiCkvuUx",
        "colab": {
          "base_uri": "https://localhost:8080/"
        },
        "outputId": "988512fc-25f0-4a81-a4db-f2d3bdea4d3c"
      },
      "execution_count": null,
      "outputs": [
        {
          "output_type": "stream",
          "name": "stderr",
          "text": [
            "100%|██████████| 30/30 [01:28<00:00,  2.96s/it]\n",
            "782it [00:11, 68.70it/s]\n"
          ]
        },
        {
          "output_type": "stream",
          "name": "stdout",
          "text": [
            "Test Accuracy: 94.206\n"
          ]
        },
        {
          "output_type": "stream",
          "name": "stderr",
          "text": [
            "782it [00:17, 44.24it/s]"
          ]
        },
        {
          "output_type": "stream",
          "name": "stdout",
          "text": [
            "Test Accuracy: 79.612\n"
          ]
        },
        {
          "output_type": "stream",
          "name": "stderr",
          "text": [
            "\n"
          ]
        }
      ]
    },
    {
      "cell_type": "markdown",
      "source": [
        "# $pn$-Equivariant Networks"
      ],
      "metadata": {
        "id": "Y4gMAi4z0PyR"
      }
    },
    {
      "cell_type": "markdown",
      "source": [
        "## Model"
      ],
      "metadata": {
        "id": "VyzDxDeKiRlO"
      }
    },
    {
      "cell_type": "code",
      "source": [
        "import torchvision"
      ],
      "metadata": {
        "id": "OTnKJMX335ba"
      },
      "execution_count": null,
      "outputs": []
    },
    {
      "cell_type": "code",
      "source": [
        "def rot_n(image, k, n=4):\n",
        "  angle = (360.0 / n) * k\n",
        "  return torchvision.transforms.functional.rotate(image, angle)"
      ],
      "metadata": {
        "id": "1NH9jhQC02Uu"
      },
      "execution_count": null,
      "outputs": []
    },
    {
      "cell_type": "code",
      "source": [
        "x = torch.randn(1, 1, 33, 33)**2\n",
        "\n",
        "r = 1\n",
        "n = 5\n",
        "gx = rot_n(x, r, n)\n",
        "\n",
        "plt.imshow(x[0, 0].numpy())\n",
        "plt.title('Original Image $x$')\n",
        "plt.show()\n",
        "\n",
        "plt.imshow(gx[0, 0].numpy())\n",
        "plt.title('Rotated Image $g.x$')\n",
        "plt.show()"
      ],
      "metadata": {
        "colab": {
          "base_uri": "https://localhost:8080/",
          "height": 891
        },
        "id": "lukDefl83xkN",
        "outputId": "c5e261b9-67b2-40f8-bb95-b385045c7e8f"
      },
      "execution_count": null,
      "outputs": [
        {
          "output_type": "display_data",
          "data": {
            "text/plain": [
              "<Figure size 640x480 with 1 Axes>"
            ],
            "image/png": "[encoded data removed]"
          },
          "metadata": {}
        },
        {
          "output_type": "display_data",
          "data": {
            "text/plain": [
              "<Figure size 640x480 with 1 Axes>"
            ],
            "image/png": "[encoded data removed]"
          },
          "metadata": {}
        }
      ]
    },
    {
      "cell_type": "code",
      "source": [
        "class PnLiftingConv2d(torch.nn.Module):\n",
        "  def __init__(self, in_channels: int, out_channels: int, kernel_size: int, padding: int = 0, bias: bool = True, n: int=4):\n",
        "\n",
        "    super(PnLiftingConv2d, self).__init__()\n",
        "\n",
        "    self.kernel_size = kernel_size\n",
        "    self.stride = 1\n",
        "    self.dilation = 1\n",
        "    self.padding = padding\n",
        "    self.out_channels = out_channels\n",
        "    self.in_channels = in_channels\n",
        "    self.n = n\n",
        "\n",
        "    self.weight = None\n",
        "\n",
        "    self.weight = torch.nn.Parameter(torch.Tensor(out_channels, in_channels, kernel_size, kernel_size))\n",
        "    torch.nn.init.normal_(self.weight, mean=0.0, std=1.0 / np.sqrt(out_channels * in_channels))\n",
        "\n",
        "    self.bias = None\n",
        "    if bias:\n",
        "      self.bias = torch.nn.Parameter(torch.ones(out_channels)*0.01)\n",
        "\n",
        "  def build_filter(self) ->torch.Tensor:\n",
        "    _filter = None\n",
        "    _bias = None\n",
        "\n",
        "\n",
        "    rotated_filters = [rot_n(self.weight, r, self.n) for r in range(self.n)]\n",
        "    _filter = torch.stack(rotated_filters, dim=1)\n",
        "\n",
        "\n",
        "    if self.bias is not None:\n",
        "      _bias = self.bias[:, None].expand(-1, self.n)\n",
        "    else:\n",
        "      _bias = None\n",
        "\n",
        "    return _filter, _bias\n",
        "\n",
        "  def forward(self, x: torch.Tensor) -> torch.Tensor:\n",
        "\n",
        "    _filter, _bias = self.build_filter()\n",
        "\n",
        "    assert _bias.shape == (self.out_channels, self.n)\n",
        "    assert _filter.shape == (self.out_channels, self.n, self.in_channels, self.kernel_size, self.kernel_size)\n",
        "\n",
        "    _filter = _filter.reshape(self.out_channels * self.n, self.in_channels, self.kernel_size, self.kernel_size)\n",
        "    _bias = _bias.reshape(self.out_channels * self.n)\n",
        "\n",
        "    out = torch.conv2d(x, _filter,\n",
        "                       stride=self.stride,\n",
        "                       padding=self.padding,\n",
        "                       dilation=self.dilation,\n",
        "                       bias=_bias)\n",
        "\n",
        "    return out.view(-1, self.out_channels, self.n, out.shape[-2], out.shape[-1])\n",
        "\n"
      ],
      "metadata": {
        "id": "wsZ5XKY_0YrX"
      },
      "execution_count": null,
      "outputs": []
    },
    {
      "cell_type": "code",
      "metadata": {
        "id": "OatacwDo0Yr4"
      },
      "source": [
        "def rotate_pn(y: torch.Tensor, r: int, n: int=4) -> torch.Tensor:\n",
        "  assert len(y.shape) >= 3\n",
        "  assert y.shape[-3] == n\n",
        "\n",
        "  y = torch.roll(y, r, dims=-3)\n",
        "  if len(y.shape) == 4:\n",
        "    return rot_n(y, r, n)\n",
        "  if len(y.shape) == 5:\n",
        "    return rot_n(y.reshape(y.shape[0]*y.shape[1], *y.shape[2:]), r, n).reshape(*y.shape)\n"
      ],
      "execution_count": null,
      "outputs": []
    },
    {
      "cell_type": "code",
      "metadata": {
        "colab": {
          "base_uri": "https://localhost:8080/",
          "height": 759
        },
        "outputId": "32862729-bc40-4dd8-ee3c-a7c899b6c0fa",
        "id": "iFb1cTbx0Yr5"
      },
      "source": [
        "# Let's test a rotation by r=1\n",
        "\n",
        "n = 5\n",
        "y = torch.randn(1, 1, n, 23, 23)**2\n",
        "ry = rotate_pn(y, 1, n)\n",
        "\n",
        "fig, axes = plt.subplots(1, n, sharex=True, sharey=True, squeeze=True, figsize=(20, 4))\n",
        "for i in range(n):\n",
        "  axes[i].imshow(y[0, 0, i].numpy())\n",
        "fig.suptitle('Original y')\n",
        "plt.show()\n",
        "\n",
        "fig, axes = plt.subplots(1, n, sharex=True, sharey=True, squeeze=True, figsize=(20, 4))\n",
        "for i in range(n):\n",
        "  axes[i].imshow(ry[0, 0, i].numpy())\n",
        "fig.suptitle('Rotated y')\n",
        "plt.show()"
      ],
      "execution_count": null,
      "outputs": [
        {
          "output_type": "display_data",
          "data": {
            "text/plain": [
              "<Figure size 2000x400 with 5 Axes>"
            ],
            "image/png": "[encoded data removed]"
          },
          "metadata": {}
        },
        {
          "output_type": "display_data",
          "data": {
            "text/plain": [
              "<Figure size 2000x400 with 5 Axes>"
            ],
            "image/png": "[encoded data removed]"
          },
          "metadata": {}
        }
      ]
    },
    {
      "cell_type": "code",
      "source": [
        "class PnGroupConv2d(torch.nn.Module):\n",
        "\n",
        "  def __init__(self, in_channels: int, out_channels: int, kernel_size: int, padding: int = 0, bias: bool = True, n: int=4):\n",
        "\n",
        "    super(PnGroupConv2d, self).__init__()\n",
        "\n",
        "    self.kernel_size = kernel_size\n",
        "    self.stride = 1\n",
        "    self.dilation = 1\n",
        "    self.padding = padding\n",
        "    self.out_channels = out_channels\n",
        "    self.in_channels = in_channels\n",
        "    self.n = n\n",
        "\n",
        "    self.weight = None\n",
        "\n",
        "    self.weight = torch.nn.Parameter(torch.Tensor(out_channels, in_channels, self.n, kernel_size, kernel_size))\n",
        "    torch.nn.init.normal_(self.weight, mean=0.0, std=1.0 / np.sqrt(out_channels * in_channels))\n",
        "\n",
        "    self.bias = None\n",
        "    if bias:\n",
        "      self.bias = torch.nn.Parameter(torch.ones(out_channels)*0.01)\n",
        "\n",
        "  def build_filter(self) ->torch.Tensor:\n",
        "    _filter = None\n",
        "    _bias = None\n",
        "\n",
        "    _filter = torch.stack([rotate_pn(self.weight, r, self.n) for r in range(self.n)], dim=1)\n",
        "\n",
        "    if self.bias is not None:\n",
        "      _bias = self.bias[:, None].expand(-1, self.n)\n",
        "    else:\n",
        "      _bias = None\n",
        "\n",
        "    return _filter, _bias\n",
        "\n",
        "  def forward(self, x: torch.Tensor) -> torch.Tensor:\n",
        "\n",
        "    _filter, _bias = self.build_filter()\n",
        "\n",
        "    assert _bias.shape == (self.out_channels, self.n)\n",
        "    assert _filter.shape == (self.out_channels, self.n, self.in_channels, self.n, self.kernel_size, self.kernel_size)\n",
        "\n",
        "    _filter = _filter.reshape(self.out_channels * self.n, self.in_channels * self.n, self.kernel_size, self.kernel_size)\n",
        "    _bias = _bias.reshape(self.out_channels * self.n)\n",
        "\n",
        "    x = x.view(x.shape[0], self.in_channels*self.n, x.shape[-2], x.shape[-1])\n",
        "\n",
        "    out = torch.conv2d(x, _filter,\n",
        "                       stride=self.stride,\n",
        "                       padding=self.padding,\n",
        "                       dilation=self.dilation,\n",
        "                       bias=_bias)\n",
        "\n",
        "    return out.view(-1, self.out_channels, self.n, out.shape[-2], out.shape[-1])"
      ],
      "metadata": {
        "id": "1zwGbhqL0Yr7"
      },
      "execution_count": null,
      "outputs": []
    },
    {
      "cell_type": "code",
      "metadata": {
        "id": "n3_LInub0Yr8"
      },
      "source": [
        "class PnCNNWithBatchNorm(torch.nn.Module):\n",
        "  def __init__(self, n=4, n_classes=10, channels=None):\n",
        "\n",
        "    super(PnCNNWithBatchNorm, self).__init__()\n",
        "\n",
        "    if channels is None:\n",
        "      channels = [8, 16, 32, 64, 64]\n",
        "\n",
        "    self.layers = torch.nn.Sequential(PnLiftingConv2d(1, channels[0], 3, 1, n=n),\n",
        "                                      torch.nn.BatchNorm3d(channels[0]),\n",
        "                                      torch.nn.MaxPool3d((1, 3, 3), (1, 2, 2), (0, 1, 1)),\n",
        "                                      torch.nn.ReLU(),\n",
        "                                      PnGroupConv2d(channels[0], channels[1], 3, 1, n=n),\n",
        "                                      torch.nn.BatchNorm3d(channels[1]),\n",
        "                                      torch.nn.MaxPool3d((1, 3, 3), (1, 2, 2), (0, 1, 1)),\n",
        "                                      torch.nn.ReLU(),\n",
        "                                      PnGroupConv2d(channels[1], channels[2], 3, 1, n=n),\n",
        "                                      torch.nn.BatchNorm3d(channels[2]),\n",
        "                                      torch.nn.MaxPool3d((1, 3, 3), (1, 2, 2), (0, 1, 1)),\n",
        "                                      torch.nn.ReLU(),\n",
        "                                      PnGroupConv2d(channels[2], channels[3], 3, 1, n=n),\n",
        "                                      torch.nn.BatchNorm3d(channels[3]),\n",
        "                                      torch.nn.MaxPool3d((1, 3, 3), (1, 2, 2), (0, 1, 1)),\n",
        "                                      torch.nn.ReLU(),\n",
        "                                      PnGroupConv2d(channels[3], channels[4], 3, 1, n=n),\n",
        "                                      torch.nn.BatchNorm3d(channels[4]),\n",
        "                                      torch.nn.MaxPool3d((n, 3, 3), (1, 1, 1), (0, 0, 0)),\n",
        "                                      torch.nn.ReLU())\n",
        "    self.linear = torch.nn.Linear(channels[-1], 10)\n",
        "\n",
        "  def forward(self, input: torch.Tensor):\n",
        "    input = self.layers(input)\n",
        "    return self.linear(input.reshape(input.shape[0], -1))\n"
      ],
      "execution_count": null,
      "outputs": []
    },
    {
      "cell_type": "markdown",
      "source": [
        "## Train and test"
      ],
      "metadata": {
        "id": "wVKWfMfSiVF5"
      }
    },
    {
      "cell_type": "code",
      "metadata": {
        "colab": {
          "base_uri": "https://localhost:8080/"
        },
        "outputId": "865520e0-8a5a-47c9-c305-5581a16c5164",
        "id": "1ShiKfev0Yr9"
      },
      "source": [
        "# Let's try our model\n",
        "\n",
        "net = PnCNNWithBatchNorm(n=6, channels=[8, 16, 32, 64, 72])\n",
        "print(np.sum([p.numel() for p in net.parameters()]))\n",
        "\n",
        "x = torch.randn(5, 1, 33, 33)\n",
        "\n",
        "y = net(x)\n",
        "\n",
        "assert y.shape == (5, 10)"
      ],
      "execution_count": null,
      "outputs": [
        {
          "output_type": "stream",
          "name": "stdout",
          "text": [
            "395362\n"
          ]
        }
      ]
    },
    {
      "cell_type": "code",
      "source": [
        "model = PnCNNWithBatchNorm(n=6, channels=[8, 16, 32, 64, 72])\n",
        "\n",
        "model = train_model(model)\n",
        "\n",
        "acc = test_model(model)\n",
        "print(f'Test Accuracy: {acc :.3f}')"
      ],
      "metadata": {
        "colab": {
          "base_uri": "https://localhost:8080/"
        },
        "outputId": "bb57914c-f132-4e82-8b69-0a076c4f19f0",
        "id": "TtpauCfO0Yr-"
      },
      "execution_count": null,
      "outputs": [
        {
          "output_type": "stream",
          "name": "stderr",
          "text": [
            "100%|██████████| 30/30 [02:33<00:00,  5.13s/it]\n",
            "782it [00:16, 47.34it/s]"
          ]
        },
        {
          "output_type": "stream",
          "name": "stdout",
          "text": [
            "Test Accuracy: 94.824\n"
          ]
        },
        {
          "output_type": "stream",
          "name": "stderr",
          "text": [
            "\n"
          ]
        }
      ]
    },
    {
      "cell_type": "code",
      "source": [
        "model = PnCNNWithBatchNorm(n=5, channels=[8, 16, 32, 64, 94])\n",
        "print(np.sum([p.numel() for p in model.parameters()]))"
      ],
      "metadata": {
        "colab": {
          "base_uri": "https://localhost:8080/"
        },
        "id": "G7CqHxzDsig7",
        "outputId": "62559bd8-09e2-471b-e029-e183eec26a5e"
      },
      "execution_count": null,
      "outputs": [
        {
          "output_type": "stream",
          "name": "stdout",
          "text": [
            "393344\n"
          ]
        }
      ]
    },
    {
      "cell_type": "code",
      "source": [
        "model = train_model(model)\n",
        "\n",
        "acc = test_model(model)\n",
        "print(f'Test Accuracy: {acc :.3f}')"
      ],
      "metadata": {
        "colab": {
          "base_uri": "https://localhost:8080/"
        },
        "id": "MjOx3EMlskLo",
        "outputId": "851a0a3c-f81f-4c09-d6c3-db805a685562"
      },
      "execution_count": null,
      "outputs": [
        {
          "output_type": "stream",
          "name": "stderr",
          "text": [
            "100%|██████████| 30/30 [02:10<00:00,  4.37s/it]\n",
            "782it [00:17, 44.63it/s]"
          ]
        },
        {
          "output_type": "stream",
          "name": "stdout",
          "text": [
            "Test Accuracy: 94.528\n"
          ]
        },
        {
          "output_type": "stream",
          "name": "stderr",
          "text": [
            "\n"
          ]
        }
      ]
    },
    {
      "cell_type": "code",
      "source": [
        "model = PnCNNWithBatchNorm(n=7, channels=[8, 16, 16, 64, 75])\n",
        "print(np.sum([p.numel() for p in model.parameters()]))"
      ],
      "metadata": {
        "colab": {
          "base_uri": "https://localhost:8080/"
        },
        "id": "-uw84kCFtfI3",
        "outputId": "8c8f9663-1609-4e7b-aefc-602b58955ae9"
      },
      "execution_count": null,
      "outputs": [
        {
          "output_type": "stream",
          "name": "stdout",
          "text": [
            "392473\n"
          ]
        }
      ]
    },
    {
      "cell_type": "code",
      "source": [
        "model = train_model(model)\n",
        "\n",
        "acc = test_model(model)\n",
        "print(f'Test Accuracy: {acc :.3f}')"
      ],
      "metadata": {
        "colab": {
          "base_uri": "https://localhost:8080/"
        },
        "id": "x_lOcJcYuOZ7",
        "outputId": "5e0c985e-5519-4719-ceaa-4c5237daa687"
      },
      "execution_count": null,
      "outputs": [
        {
          "output_type": "stream",
          "name": "stderr",
          "text": [
            "100%|██████████| 30/30 [02:31<00:00,  5.05s/it]\n",
            "782it [00:18, 41.55it/s]"
          ]
        },
        {
          "output_type": "stream",
          "name": "stdout",
          "text": [
            "Test Accuracy: 93.284\n"
          ]
        },
        {
          "output_type": "stream",
          "name": "stderr",
          "text": [
            "\n"
          ]
        }
      ]
    },
    {
      "cell_type": "code",
      "source": [
        "model = PnCNNWithBatchNorm(n=8, channels=[4, 16, 16, 64, 64])\n",
        "print(np.sum([p.numel() for p in model.parameters()]))\n",
        "\n",
        "model = train_model(model)\n",
        "\n",
        "acc = test_model(model)\n",
        "print(f'Test Accuracy: {acc :.3f}')"
      ],
      "metadata": {
        "colab": {
          "base_uri": "https://localhost:8080/"
        },
        "id": "s_J4lTao81us",
        "outputId": "6b79eb5d-4fa0-478d-a68e-7cabfd92107a"
      },
      "execution_count": null,
      "outputs": [
        {
          "output_type": "stream",
          "name": "stdout",
          "text": [
            "392858\n"
          ]
        },
        {
          "output_type": "stream",
          "name": "stderr",
          "text": [
            "100%|██████████| 30/30 [02:44<00:00,  5.49s/it]\n",
            "782it [00:20, 37.79it/s]"
          ]
        },
        {
          "output_type": "stream",
          "name": "stdout",
          "text": [
            "Test Accuracy: 96.006\n"
          ]
        },
        {
          "output_type": "stream",
          "name": "stderr",
          "text": [
            "\n"
          ]
        }
      ]
    },
    {
      "cell_type": "code",
      "source": [
        "model = PnCNNWithBatchNorm(n=12, channels=[4, 16, 32, 32, 64])\n",
        "print(np.sum([p.numel() for p in model.parameters()]))"
      ],
      "metadata": {
        "colab": {
          "base_uri": "https://localhost:8080/"
        },
        "id": "EmOhShX7wk9p",
        "outputId": "a92c98c2-6049-4caf-de7c-4e1f0379efb5"
      },
      "execution_count": null,
      "outputs": [
        {
          "output_type": "stream",
          "name": "stdout",
          "text": [
            "395114\n"
          ]
        }
      ]
    },
    {
      "cell_type": "code",
      "source": [
        "model = train_model(model)\n",
        "\n",
        "acc = test_model(model)\n",
        "print(f'Test Accuracy: {acc :.3f}')"
      ],
      "metadata": {
        "colab": {
          "base_uri": "https://localhost:8080/"
        },
        "id": "231Da2VmxL6H",
        "outputId": "b20a7851-d698-4557-ba8f-2f61cbf69ba4"
      },
      "execution_count": null,
      "outputs": [
        {
          "output_type": "stream",
          "name": "stderr",
          "text": [
            "100%|██████████| 30/30 [04:00<00:00,  8.01s/it]\n",
            "782it [00:27, 28.57it/s]"
          ]
        },
        {
          "output_type": "stream",
          "name": "stdout",
          "text": [
            "Test Accuracy: 95.908\n"
          ]
        },
        {
          "output_type": "stream",
          "name": "stderr",
          "text": [
            "\n"
          ]
        }
      ]
    },
    {
      "cell_type": "code",
      "source": [
        "model = PnCNNWithBatchNorm(n=16, channels=[4, 8, 16, 32, 64])\n",
        "print(np.sum([p.numel() for p in model.parameters()]))"
      ],
      "metadata": {
        "colab": {
          "base_uri": "https://localhost:8080/"
        },
        "id": "5jvhhOBovuVU",
        "outputId": "ccda2d5f-dbe7-4cb2-84df-c27013b5c020"
      },
      "execution_count": null,
      "outputs": [
        {
          "output_type": "stream",
          "name": "stdout",
          "text": [
            "392738\n"
          ]
        }
      ]
    },
    {
      "cell_type": "code",
      "source": [
        "model = train_model(model)\n",
        "\n",
        "acc = test_model(model)\n",
        "print(f'Test Accuracy: {acc :.3f}')"
      ],
      "metadata": {
        "colab": {
          "base_uri": "https://localhost:8080/"
        },
        "id": "1JwkdLoav0SM",
        "outputId": "279e9984-ddb2-4cb1-d479-e7e1fbad8077"
      },
      "execution_count": null,
      "outputs": [
        {
          "output_type": "stream",
          "name": "stderr",
          "text": [
            "100%|██████████| 30/30 [04:38<00:00,  9.27s/it]\n",
            "782it [00:34, 22.96it/s]"
          ]
        },
        {
          "output_type": "stream",
          "name": "stdout",
          "text": [
            "Test Accuracy: 95.698\n"
          ]
        },
        {
          "output_type": "stream",
          "name": "stderr",
          "text": [
            "\n"
          ]
        }
      ]
    },
    {
      "cell_type": "markdown",
      "source": [
        "# Generalization\n",
        "\n",
        "Train on MNIST, evaluate on rotated Mnist"
      ],
      "metadata": {
        "id": "u7VEqgZnwDjU"
      }
    },
    {
      "cell_type": "code",
      "source": [
        "model = PnCNNWithBatchNorm(n=6, channels=[8, 16, 32, 64, 72])\n",
        "\n",
        "model = train_model(model, mnist_train_set)\n",
        "\n",
        "acc = test_model(model, mnist_test_set)\n",
        "print(f'Test Accuracy: {acc :.3f}')"
      ],
      "metadata": {
        "id": "EkXQsGaMwHDm",
        "colab": {
          "base_uri": "https://localhost:8080/"
        },
        "outputId": "4157b8d2-a974-4f16-899e-92c766df7d7c"
      },
      "execution_count": null,
      "outputs": [
        {
          "output_type": "stream",
          "name": "stderr",
          "text": [
            "100%|██████████| 30/30 [02:53<00:00,  5.78s/it]\n",
            "782it [00:18, 43.31it/s]"
          ]
        },
        {
          "output_type": "stream",
          "name": "stdout",
          "text": [
            "Test Accuracy: 96.216\n"
          ]
        },
        {
          "output_type": "stream",
          "name": "stderr",
          "text": [
            "\n"
          ]
        }
      ]
    },
    {
      "cell_type": "code",
      "source": [
        "acc = test_model(model, mnist_transform_test)\n",
        "print(f'Test Accuracy: {acc :.3f}')"
      ],
      "metadata": {
        "colab": {
          "base_uri": "https://localhost:8080/"
        },
        "id": "nJGbA6Qi3Txw",
        "outputId": "fc99ad61-6429-4619-ab2f-417be309e90f"
      },
      "execution_count": null,
      "outputs": [
        {
          "output_type": "stream",
          "name": "stderr",
          "text": [
            "782it [00:25, 30.45it/s]"
          ]
        },
        {
          "output_type": "stream",
          "name": "stdout",
          "text": [
            "Test Accuracy: 42.288\n"
          ]
        },
        {
          "output_type": "stream",
          "name": "stderr",
          "text": [
            "\n"
          ]
        }
      ]
    },
    {
      "cell_type": "code",
      "source": [
        "model = PnCNNWithBatchNorm(n=8, channels=[4, 16, 16, 64, 64])\n",
        "print(np.sum([p.numel() for p in model.parameters()]))\n",
        "\n",
        "model = train_model(model, mnist_train_set)\n",
        "\n",
        "acc = test_model(model, mnist_test_set)\n",
        "print(f'Test Accuracy: {acc :.3f}')\n",
        "\n",
        "acc = test_model(model, mnist_transform_test)\n",
        "print(f'Test Accuracy: {acc :.3f}')"
      ],
      "metadata": {
        "colab": {
          "base_uri": "https://localhost:8080/"
        },
        "id": "Z2i5I2j83eqL",
        "outputId": "8261a339-c6b2-49f9-885f-e242a4c8b0de"
      },
      "execution_count": null,
      "outputs": [
        {
          "output_type": "stream",
          "name": "stdout",
          "text": [
            "392858\n"
          ]
        },
        {
          "output_type": "stream",
          "name": "stderr",
          "text": [
            "100%|██████████| 30/30 [02:43<00:00,  5.46s/it]\n",
            "782it [00:20, 37.88it/s]\n"
          ]
        },
        {
          "output_type": "stream",
          "name": "stdout",
          "text": [
            "Test Accuracy: 95.968\n"
          ]
        },
        {
          "output_type": "stream",
          "name": "stderr",
          "text": [
            "782it [00:27, 28.62it/s]"
          ]
        },
        {
          "output_type": "stream",
          "name": "stdout",
          "text": [
            "Test Accuracy: 63.528\n"
          ]
        },
        {
          "output_type": "stream",
          "name": "stderr",
          "text": [
            "\n"
          ]
        }
      ]
    },
    {
      "cell_type": "markdown",
      "source": [
        "# Filters"
      ],
      "metadata": {
        "id": "xUBQsGcZxqGh"
      }
    },
    {
      "cell_type": "code",
      "source": [
        "model = C4CNNWithBatchNorm()\n",
        "\n",
        "model = train_model(model)\n",
        "\n",
        "acc = test_model(model)\n",
        "print(f'Test Accuracy: {acc :.3f}')"
      ],
      "metadata": {
        "colab": {
          "base_uri": "https://localhost:8080/"
        },
        "id": "g8ncFohixrgp",
        "outputId": "7381d1a6-da79-4e74-8f12-4d5392289842"
      },
      "execution_count": null,
      "outputs": [
        {
          "output_type": "stream",
          "name": "stderr",
          "text": [
            "100%|██████████| 30/30 [01:42<00:00,  3.42s/it]\n",
            "782it [00:05, 142.78it/s]"
          ]
        },
        {
          "output_type": "stream",
          "name": "stdout",
          "text": [
            "Test Accuracy: 95.960\n"
          ]
        },
        {
          "output_type": "stream",
          "name": "stderr",
          "text": [
            "\n"
          ]
        }
      ]
    },
    {
      "cell_type": "code",
      "source": [
        "model.layers[0]"
      ],
      "metadata": {
        "colab": {
          "base_uri": "https://localhost:8080/"
        },
        "id": "YeO5xSuO_dTX",
        "outputId": "4569fbfc-9fb3-4634-c5d7-da9b7e1eed0b"
      },
      "execution_count": null,
      "outputs": [
        {
          "output_type": "execute_result",
          "data": {
            "text/plain": [
              "LiftingConv2d()"
            ]
          },
          "metadata": {},
          "execution_count": 102
        }
      ]
    },
    {
      "cell_type": "code",
      "source": [
        "model.layers[0:5]"
      ],
      "metadata": {
        "colab": {
          "base_uri": "https://localhost:8080/"
        },
        "id": "XtYHQXYh_vo8",
        "outputId": "4c2ec331-3cf3-4af2-cd14-b134e8b6a02a"
      },
      "execution_count": null,
      "outputs": [
        {
          "output_type": "execute_result",
          "data": {
            "text/plain": [
              "Sequential(\n",
              "  (0): LiftingConv2d()\n",
              "  (1): BatchNorm3d(8, eps=1e-05, momentum=0.1, affine=True, track_running_stats=True)\n",
              "  (2): MaxPool3d(kernel_size=(1, 3, 3), stride=(1, 2, 2), padding=(0, 1, 1), dilation=1, ceil_mode=False)\n",
              "  (3): ReLU()\n",
              "  (4): GroupConv2d()\n",
              ")"
            ]
          },
          "metadata": {},
          "execution_count": 108
        }
      ]
    },
    {
      "cell_type": "code",
      "source": [
        "val_image = mnist_test_set[15][0]\n",
        "rot_image = rotate(val_image, r=1)\n",
        "model.eval()\n",
        "output = model.layers[0:1](val_image.to(device))\n",
        "rot_output = model.layers[0:1](rot_image.to(device))"
      ],
      "metadata": {
        "id": "7SFS6qtB-xN9"
      },
      "execution_count": null,
      "outputs": []
    },
    {
      "cell_type": "code",
      "source": [
        "plt.imshow(val_image[0], cmap='gray')"
      ],
      "metadata": {
        "colab": {
          "base_uri": "https://localhost:8080/",
          "height": 447
        },
        "id": "M7hfxXqXAE4q",
        "outputId": "dec52e6a-0887-4b71-bee3-050716811a00"
      },
      "execution_count": null,
      "outputs": [
        {
          "output_type": "execute_result",
          "data": {
            "text/plain": [
              "<matplotlib.image.AxesImage at 0x7d8a21888d60>"
            ]
          },
          "metadata": {},
          "execution_count": 130
        },
        {
          "output_type": "display_data",
          "data": {
            "text/plain": [
              "<Figure size 640x480 with 1 Axes>"
            ],
            "image/png": "[encoded data removed]"
          },
          "metadata": {}
        }
      ]
    },
    {
      "cell_type": "code",
      "source": [
        "plt.figure(figsize=(18, 6))\n",
        "\n",
        "i = 0\n",
        "plt.subplot(2, 5, i+1)\n",
        "plt.axis(\"off\")\n",
        "plt.imshow(val_image[0], cmap='gray')\n",
        "plt.title('Input image')\n",
        "\n",
        "plt.subplot(2, 5, i+6)\n",
        "plt.axis(\"off\")\n",
        "plt.imshow(rot_image[0], cmap='gray')\n",
        "\n",
        "for i in range(1, 5):\n",
        "    plt.subplot(2, 5, i+1)\n",
        "    plt.axis(\"off\")\n",
        "    plt.imshow(output[0, 0, i - 1].detach().cpu().numpy(), cmap='gray')\n",
        "    plt.title('r = {}'.format(i - 1))\n",
        "\n",
        "    plt.subplot(2, 5, i+6)\n",
        "    plt.axis(\"off\")\n",
        "    plt.imshow(rot_output[0, 0, i - 1].detach().cpu().numpy(), cmap='gray')\n",
        "plt.show();"
      ],
      "metadata": {
        "colab": {
          "base_uri": "https://localhost:8080/",
          "height": 521
        },
        "id": "jo20HrJo-7RB",
        "outputId": "f420e63a-0d74-45c4-abbf-1908aa4c970f"
      },
      "execution_count": null,
      "outputs": [
        {
          "output_type": "display_data",
          "data": {
            "text/plain": [
              "<Figure size 1800x600 with 10 Axes>"
            ],
            "image/png": "[encoded data removed]"
          },
          "metadata": {}
        }
      ]
    },
    {
      "cell_type": "code",
      "source": [
        "output = model.layers[0:5](val_image.to(device))\n",
        "rot_output = model.layers[0:5](rot_image.to(device))\n",
        "\n",
        "plt.figure(figsize=(18, 6))\n",
        "i = 0\n",
        "plt.subplot(2, 5, i+1)\n",
        "plt.axis(\"off\")\n",
        "plt.imshow(val_image[0], cmap='gray')\n",
        "plt.title('Input image')\n",
        "\n",
        "plt.subplot(2, 5, i+6)\n",
        "plt.axis(\"off\")\n",
        "plt.imshow(rot_image[0], cmap='gray')\n",
        "\n",
        "for i in range(1, 5):\n",
        "    plt.subplot(2, 5, i+1)\n",
        "    plt.axis(\"off\")\n",
        "    plt.imshow(output[0, 0, i - 1].detach().cpu().numpy(), cmap='gray')\n",
        "    plt.title('r = {}'.format(i - 1))\n",
        "\n",
        "    plt.subplot(2, 5, i+6)\n",
        "    plt.axis(\"off\")\n",
        "    plt.imshow(rot_output[0, 0, i - 1].detach().cpu().numpy(), cmap='gray')\n",
        "plt.show();"
      ],
      "metadata": {
        "colab": {
          "base_uri": "https://localhost:8080/",
          "height": 521
        },
        "id": "vzr87lk__Sm1",
        "outputId": "6036e53a-c916-40b6-ba02-f5ec8b0f91cd"
      },
      "execution_count": null,
      "outputs": [
        {
          "output_type": "display_data",
          "data": {
            "text/plain": [
              "<Figure size 1800x600 with 10 Axes>"
            ],
            "image/png": "[encoded data removed]"
          },
          "metadata": {}
        }
      ]
    },
    {
      "cell_type": "code",
      "source": [],
      "metadata": {
        "id": "CBomNPIoBHPH"
      },
      "execution_count": null,
      "outputs": []
    }
  ]
}